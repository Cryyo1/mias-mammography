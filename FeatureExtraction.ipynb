{
 "cells": [
  {
   "cell_type": "markdown",
   "metadata": {},
   "source": [
    "## Extract features from images using pre-trained models"
   ]
  },
  {
   "cell_type": "markdown",
   "metadata": {
    "collapsed": true
   },
   "source": [
    "The features were extracted using:\n",
    "https://github.com/escuccim/TF_FeatureExtraction\n",
    "\n",
    "Which was forked from another repo in order to add an option to disable GPU so as not to crash my GPU. This uses a TensorFlow model of each ConvNet to extract the features.\n",
    "\n",
    "The features were extracted using the following pre-trained networks:\n",
    " - inception v4\n",
    " - resnet v2\n",
    " - vgg 19\n",
    " \n",
    "Using checkpoints downloaded from: https://github.com/tensorflow/models/tree/master/research/slim#pre-trained-models\n",
    " \n",
    "Features were extracted from multiple layers in each network for comparison."
   ]
  }
 ],
 "metadata": {
  "kernelspec": {
   "display_name": "Python 3",
   "language": "python",
   "name": "python3"
  },
  "language_info": {
   "codemirror_mode": {
    "name": "ipython",
    "version": 3
   },
   "file_extension": ".py",
   "mimetype": "text/x-python",
   "name": "python",
   "nbconvert_exporter": "python",
   "pygments_lexer": "ipython3",
   "version": "3.6.2"
  }
 },
 "nbformat": 4,
 "nbformat_minor": 2
}
