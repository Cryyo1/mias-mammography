{
 "cells": [
  {
   "cell_type": "code",
   "execution_count": 2,
   "metadata": {
    "collapsed": true
   },
   "outputs": [],
   "source": [
    "from PIL import Image\n",
    "import numpy as np\n",
    "import pandas as pd\n",
    "import os\n",
    "from mammo_utils import convert_images_to_array"
   ]
  },
  {
   "cell_type": "code",
   "execution_count": 3,
   "metadata": {
    "collapsed": true
   },
   "outputs": [],
   "source": [
    "# read in the label data\n",
    "labels_tr = pd.read_pickle(os.path.join(\"data\",\"train_labels.pkl\"))\n",
    "# reset the index, drop duplicate rows, and then reset the index\n",
    "labels_tr = labels_tr.reset_index().drop_duplicates(subset='IMAGE_NAME', keep='first', inplace=False)\n",
    "labels_tr = labels_tr.set_index(\"IMAGE_NAME\")\n",
    "\n",
    "labels_te = pd.read_pickle(os.path.join(\"data\",\"test_labels.pkl\"))\n",
    "# reset the index, drop duplicate rows, and then reset the index\n",
    "labels_te = labels_te.reset_index().drop_duplicates(subset='IMAGE_NAME', keep='first', inplace=False)\n",
    "labels_te = labels_te.set_index(\"IMAGE_NAME\")\n"
   ]
  },
  {
   "cell_type": "code",
   "execution_count": 4,
   "metadata": {},
   "outputs": [
    {
     "ename": "KeyboardInterrupt",
     "evalue": "",
     "output_type": "error",
     "traceback": [
      "\u001b[1;31m---------------------------------------------------------------------------\u001b[0m",
      "\u001b[1;31mKeyboardInterrupt\u001b[0m                         Traceback (most recent call last)",
      "\u001b[1;32m<ipython-input-4-d5824491c991>\u001b[0m in \u001b[0;36m<module>\u001b[1;34m()\u001b[0m\n\u001b[0;32m      1\u001b[0m \u001b[1;31m# convert the images to an array\u001b[0m\u001b[1;33m\u001b[0m\u001b[1;33m\u001b[0m\u001b[0m\n\u001b[1;32m----> 2\u001b[1;33m \u001b[0mmass_train_images\u001b[0m\u001b[1;33m,\u001b[0m \u001b[0mmass_train_labels\u001b[0m \u001b[1;33m=\u001b[0m \u001b[0mconvert_images_to_array\u001b[0m\u001b[1;33m(\u001b[0m\u001b[1;34m\"data/new/Mass Train/AllJPEGS299\"\u001b[0m\u001b[1;33m,\u001b[0m \u001b[0mlabel_data\u001b[0m\u001b[1;33m=\u001b[0m\u001b[0mlabels_tr\u001b[0m\u001b[1;33m)\u001b[0m\u001b[1;33m\u001b[0m\u001b[0m\n\u001b[0m\u001b[0;32m      3\u001b[0m \u001b[0mcalc_train_images\u001b[0m\u001b[1;33m,\u001b[0m \u001b[0mcalc_train_labels\u001b[0m \u001b[1;33m=\u001b[0m \u001b[0mconvert_images_to_array\u001b[0m\u001b[1;33m(\u001b[0m\u001b[1;34m\"data/new/Calc Train/AllJPEGS299\"\u001b[0m\u001b[1;33m,\u001b[0m \u001b[0mlabel_data\u001b[0m\u001b[1;33m=\u001b[0m\u001b[0mlabels_tr\u001b[0m\u001b[1;33m)\u001b[0m\u001b[1;33m\u001b[0m\u001b[0m\n\u001b[0;32m      4\u001b[0m \u001b[1;33m\u001b[0m\u001b[0m\n\u001b[0;32m      5\u001b[0m \u001b[0mtrain_images\u001b[0m \u001b[1;33m=\u001b[0m \u001b[0mnp\u001b[0m\u001b[1;33m.\u001b[0m\u001b[0mconcatenate\u001b[0m\u001b[1;33m(\u001b[0m\u001b[1;33m[\u001b[0m\u001b[0mmass_train_images\u001b[0m\u001b[1;33m,\u001b[0m \u001b[0mcalc_train_images\u001b[0m\u001b[1;33m]\u001b[0m\u001b[1;33m,\u001b[0m \u001b[0maxis\u001b[0m\u001b[1;33m=\u001b[0m\u001b[1;36m0\u001b[0m\u001b[1;33m)\u001b[0m\u001b[1;33m\u001b[0m\u001b[0m\n",
      "\u001b[1;32m~\\Documents\\Courses\\Applied ML 2\\mammography\\mammo_utils.py\u001b[0m in \u001b[0;36mconvert_images_to_array\u001b[1;34m(path, label_data)\u001b[0m\n\u001b[0;32m    100\u001b[0m     \u001b[0mfiles\u001b[0m \u001b[1;33m=\u001b[0m \u001b[0mos\u001b[0m\u001b[1;33m.\u001b[0m\u001b[0mlistdir\u001b[0m\u001b[1;33m(\u001b[0m\u001b[0mpath\u001b[0m\u001b[1;33m)\u001b[0m\u001b[1;33m\u001b[0m\u001b[0m\n\u001b[0;32m    101\u001b[0m     \u001b[1;32mfor\u001b[0m \u001b[0mfile\u001b[0m \u001b[1;32min\u001b[0m \u001b[0mfiles\u001b[0m\u001b[1;33m:\u001b[0m\u001b[1;33m\u001b[0m\u001b[0m\n\u001b[1;32m--> 102\u001b[1;33m         \u001b[0mimg_data\u001b[0m \u001b[1;33m=\u001b[0m \u001b[0mImage\u001b[0m\u001b[1;33m.\u001b[0m\u001b[0mopen\u001b[0m\u001b[1;33m(\u001b[0m\u001b[0mpath\u001b[0m \u001b[1;33m+\u001b[0m \u001b[1;34m'/'\u001b[0m \u001b[1;33m+\u001b[0m \u001b[0mfile\u001b[0m\u001b[1;33m)\u001b[0m\u001b[1;33m\u001b[0m\u001b[0m\n\u001b[0m\u001b[0;32m    103\u001b[0m         \u001b[0marr\u001b[0m \u001b[1;33m=\u001b[0m \u001b[0mnp\u001b[0m\u001b[1;33m.\u001b[0m\u001b[0marray\u001b[0m\u001b[1;33m(\u001b[0m\u001b[0mimg_data\u001b[0m\u001b[1;33m)\u001b[0m\u001b[1;33m\u001b[0m\u001b[0m\n\u001b[0;32m    104\u001b[0m         \u001b[0mdata\u001b[0m\u001b[1;33m.\u001b[0m\u001b[0mappend\u001b[0m\u001b[1;33m(\u001b[0m\u001b[0marr\u001b[0m\u001b[1;33m)\u001b[0m\u001b[1;33m\u001b[0m\u001b[0m\n",
      "\u001b[1;32m~\\Anaconda2\\envs\\exts-aml2\\lib\\site-packages\\PIL\\Image.py\u001b[0m in \u001b[0;36mopen\u001b[1;34m(fp, mode)\u001b[0m\n\u001b[0;32m   2475\u001b[0m \u001b[1;33m\u001b[0m\u001b[0m\n\u001b[0;32m   2476\u001b[0m     \u001b[1;32mif\u001b[0m \u001b[0mfilename\u001b[0m\u001b[1;33m:\u001b[0m\u001b[1;33m\u001b[0m\u001b[0m\n\u001b[1;32m-> 2477\u001b[1;33m         \u001b[0mfp\u001b[0m \u001b[1;33m=\u001b[0m \u001b[0mbuiltins\u001b[0m\u001b[1;33m.\u001b[0m\u001b[0mopen\u001b[0m\u001b[1;33m(\u001b[0m\u001b[0mfilename\u001b[0m\u001b[1;33m,\u001b[0m \u001b[1;34m\"rb\"\u001b[0m\u001b[1;33m)\u001b[0m\u001b[1;33m\u001b[0m\u001b[0m\n\u001b[0m\u001b[0;32m   2478\u001b[0m         \u001b[0mexclusive_fp\u001b[0m \u001b[1;33m=\u001b[0m \u001b[1;32mTrue\u001b[0m\u001b[1;33m\u001b[0m\u001b[0m\n\u001b[0;32m   2479\u001b[0m \u001b[1;33m\u001b[0m\u001b[0m\n",
      "\u001b[1;31mKeyboardInterrupt\u001b[0m: "
     ]
    }
   ],
   "source": [
    "# convert the images to an array\n",
    "mass_train_images, mass_train_labels = convert_images_to_array(\"data/new/Mass Train/AllJPEGS299\", label_data=labels_tr)\n",
    "calc_train_images, calc_train_labels = convert_images_to_array(\"data/new/Calc Train/AllJPEGS299\", label_data=labels_tr)\n",
    "\n",
    "train_images = np.concatenate([mass_train_images, calc_train_images], axis=0)\n",
    "train_labels = np.concatenate([mass_train_labels, calc_train_labels], axis=0)\n",
    "\n",
    "# discard the last two channels since the images are grayscale and all channels are identical\n",
    "train_images = train_images[:,:,:,0].reshape(-1,299,299,1)\n",
    "\n",
    "# save the files\n",
    "np.save(os.path.join(\"data\", \"train_images299.npy\"), train_images)\n",
    "np.save(os.path.join(\"data\", \"train_labels.npy\"), train_labels)"
   ]
  },
  {
   "cell_type": "code",
   "execution_count": null,
   "metadata": {},
   "outputs": [],
   "source": [
    "print(\"Train Labels:\",len(train_labels))\n",
    "print(\"Train Data:\", train_images.shape)"
   ]
  },
  {
   "cell_type": "code",
   "execution_count": 8,
   "metadata": {
    "collapsed": true
   },
   "outputs": [],
   "source": [
    "# convert the images to arrays\n",
    "mass_test_images, mass_test_labels = convert_images_to_array(\"data/new/Mass Test/AllJPEGS299\", label_data=labels_te)\n",
    "calc_test_images, calc_test_labels = convert_images_to_array(\"data/new/Calc Test/AllJPEGS299\", label_data=labels_te)\n",
    "\n",
    "test_images = np.concatenate([mass_test_images, calc_test_images], axis=0)\n",
    "test_labels = np.concatenate([mass_test_labels, calc_test_labels], axis=0)\n",
    "\n",
    "# discard the last two channels since the images are grayscale and all channels are identical\n",
    "test_images = test_images[:,:,:,0].reshape(-1,299,299,1)\n",
    "\n",
    "\n",
    "# save the file\n",
    "np.save(os.path.join(\"data\", \"test_images299.npy\"), test_images)\n",
    "np.save(os.path.join(\"data\", \"test_labels.npy\"), test_labels)"
   ]
  },
  {
   "cell_type": "code",
   "execution_count": 9,
   "metadata": {},
   "outputs": [
    {
     "name": "stdout",
     "output_type": "stream",
     "text": [
      "Test Labels: 399\n",
      "Test Data: (399, 299, 299, 1)\n"
     ]
    }
   ],
   "source": [
    "print(\"Test Labels:\",len(test_labels))\n",
    "print(\"Test Data:\", test_images.shape)"
   ]
  },
  {
   "cell_type": "code",
   "execution_count": 15,
   "metadata": {},
   "outputs": [],
   "source": [
    "train_labels = np.load(\"data/train_labels.npy\")\n",
    "test_labels = np.load(\"data/test_labels.npy\")"
   ]
  },
  {
   "cell_type": "code",
   "execution_count": 17,
   "metadata": {},
   "outputs": [],
   "source": [
    "train_labels[train_labels == 'BENIGN_WITHOUT_CALLBACK_mass'] = \"BENIGN_mass\"\n",
    "train_labels[train_labels == 'BENIGN_WITHOUT_CALLBACK_calcification'] = \"BENIGN_calcification\"\n",
    "\n",
    "test_labels[test_labels == 'BENIGN_WITHOUT_CALLBACK_mass'] = \"BENIGN_mass\"\n",
    "test_labels[test_labels == 'BENIGN_WITHOUT_CALLBACK_calcification'] = \"BENIGN_calcification\""
   ]
  },
  {
   "cell_type": "code",
   "execution_count": 18,
   "metadata": {
    "collapsed": true
   },
   "outputs": [],
   "source": [
    "np.save(\"data/train_labels.npy\", train_labels)\n",
    "np.save(\"data/test_labels.npy\", test_labels)"
   ]
  },
  {
   "cell_type": "code",
   "execution_count": 19,
   "metadata": {},
   "outputs": [
    {
     "data": {
      "text/plain": [
       "BENIGN_mass                0.546366\n",
       "MALIGNANT_mass             0.358396\n",
       "MALIGNANT_calcification    0.052632\n",
       "BENIGN_calcification       0.042607\n",
       "dtype: float64"
      ]
     },
     "execution_count": 19,
     "metadata": {},
     "output_type": "execute_result"
    }
   ],
   "source": [
    "pd.value_counts(test_labels, normalize=True)"
   ]
  }
 ],
 "metadata": {
  "kernelspec": {
   "display_name": "Python 3",
   "language": "python",
   "name": "python3"
  },
  "language_info": {
   "codemirror_mode": {
    "name": "ipython",
    "version": 3
   },
   "file_extension": ".py",
   "mimetype": "text/x-python",
   "name": "python",
   "nbconvert_exporter": "python",
   "pygments_lexer": "ipython3",
   "version": "3.6.2"
  }
 },
 "nbformat": 4,
 "nbformat_minor": 2
}
