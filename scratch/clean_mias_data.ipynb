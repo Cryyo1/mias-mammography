{
 "cells": [
  {
   "cell_type": "code",
   "execution_count": 1,
   "metadata": {
    "collapsed": true
   },
   "outputs": [],
   "source": [
    "import numpy as np\n",
    "import re\n",
    "from glob import glob\n",
    "import pandas as pd\n",
    "import pickle\n",
    "import os\n",
    "import re\n",
    "from mammo_utils import read_pgm"
   ]
  },
  {
   "cell_type": "code",
   "execution_count": 64,
   "metadata": {
    "collapsed": true
   },
   "outputs": [],
   "source": [
    "# read all pgms in\n",
    "files = glob('data/pgms/*.pgm')\n",
    "data = []\n",
    "\n",
    "for file in files:\n",
    "    # read each file in and convert it to a float\n",
    "    data.append(read_pgm(file) * 1.0)\n",
    "    \n",
    "images = np.array(data, dtype=np.int16)\n",
    "\n",
    "# save the images to an npy file so they don't need to be read in individually in the future\n",
    "np.save(os.path.join('data','images.npy'), images)"
   ]
  },
  {
   "cell_type": "code",
   "execution_count": 2,
   "metadata": {
    "collapsed": true
   },
   "outputs": [],
   "source": [
    "## do same for small resized pgms\n",
    "files = glob('data/small/*.pbm')\n",
    "small_data = []\n",
    "\n",
    "for file in files:\n",
    "    # read each file in and convert it to a float\n",
    "    small_data.append(read_pgm(file) * 1.0)\n",
    "\n",
    "small_images = np.array(small_data, dtype=np.int16)\n",
    "np.save(os.path.join('data','small_images.npy'), small_images)"
   ]
  },
  {
   "cell_type": "code",
   "execution_count": 67,
   "metadata": {
    "collapsed": true
   },
   "outputs": [],
   "source": [
    "## And again for medium sized pgms\n",
    "files = glob('data/medium/*.pbm')\n",
    "med_data = []\n",
    "\n",
    "for file in files:\n",
    "    # read each file in and convert it to a float\n",
    "    med_data.append(read_pgm(file) * 1.0)\n",
    "\n",
    "medium_images = np.array(med_data, dtype=np.int16)\n",
    "np.save(os.path.join('data','medium_images.npy'), medium_images)"
   ]
  },
  {
   "cell_type": "code",
   "execution_count": 5,
   "metadata": {
    "collapsed": true
   },
   "outputs": [],
   "source": [
    "## Label Data"
   ]
  },
  {
   "cell_type": "code",
   "execution_count": 6,
   "metadata": {
    "collapsed": true
   },
   "outputs": [],
   "source": [
    "# import and clean the annotation data\n",
    "all_cases_df = pd.read_table('data/Info.txt', delimiter=' ')\n",
    "all_cases_df = all_cases_df[all_cases_df.columns[:-1]] # drop last column\n",
    "all_cases_df['path'] = all_cases_df['REFNUM'].map(lambda x: '%s.pgm' % x)"
   ]
  },
  {
   "cell_type": "code",
   "execution_count": 7,
   "metadata": {
    "collapsed": true
   },
   "outputs": [],
   "source": [
    "# Let's drop the duplicate rows\n",
    "all_cases_df.drop_duplicates(subset=['REFNUM'], keep='first', inplace=True)\n",
    "\n",
    "# reindex it\n",
    "all_cases_df.reset_index(inplace=True, drop=True)\n",
    "\n",
    "# add another column to indicate whether the scan is normal or not, disregarding the specific type of abnormality\n",
    "all_cases_df['ABNORMAL'] = (all_cases_df['CLASS'] != 'NORM') * 1.0\n",
    "\n",
    "# add one more column to indicate whether the abnormality is benign or malignant, malignant is 1, benign is 0, no abnormality is -1\n",
    "all_cases_df['TYPE'] = -1\n",
    "mal_idx = all_cases_df['SEVERITY'] == 'M'\n",
    "all_cases_df.loc[mal_idx,'TYPE'] = 1\n",
    "ben_idx = all_cases_df['SEVERITY'] == 'B'\n",
    "all_cases_df.loc[ben_idx,'TYPE'] = 0"
   ]
  },
  {
   "cell_type": "code",
   "execution_count": 8,
   "metadata": {
    "collapsed": true
   },
   "outputs": [],
   "source": [
    "from sklearn.preprocessing import LabelEncoder\n",
    "\n",
    "# encode the classes\n",
    "class_le = LabelEncoder()\n",
    "class_le.fit(all_cases_df.CLASS)\n",
    "class_vec = class_le.transform(all_cases_df.CLASS)\n",
    "\n",
    "# save the class names to a vector and add the encoded classes to the df\n",
    "class_names = class_le.classes_\n",
    "all_cases_df['CLASS_Y'] = class_vec\n",
    "\n",
    "# one hot encode the backgrounds\n",
    "all_cases_df = pd.get_dummies(all_cases_df, columns=['BG'])"
   ]
  },
  {
   "cell_type": "code",
   "execution_count": 11,
   "metadata": {
    "collapsed": true
   },
   "outputs": [],
   "source": [
    "# save the cleaned data\n",
    "all_cases_df.to_pickle(os.path.join(\"data\",\"all_cases_df.pkl\"))\n",
    "\n",
    "np.save(os.path.join(\"data\",\"names.npy\"), class_names)\n",
    "\n",
    "# clean up the annotations to remove unneeded columns\n",
    "labels = all_cases_df.copy()\n",
    "labels.drop(['CLASS','SEVERITY','path'], axis=1, inplace=True)\n",
    "\n",
    "# fill radius with 0\n",
    "labels['RADIUS'].fillna(0, inplace=True)\n",
    "labels.to_pickle(os.path.join(\"data\",\"labels.pkl\"))"
   ]
  },
  {
   "cell_type": "code",
   "execution_count": null,
   "metadata": {
    "collapsed": true
   },
   "outputs": [],
   "source": []
  }
 ],
 "metadata": {
  "kernelspec": {
   "display_name": "Python 3",
   "language": "python",
   "name": "python3"
  },
  "language_info": {
   "codemirror_mode": {
    "name": "ipython",
    "version": 3
   },
   "file_extension": ".py",
   "mimetype": "text/x-python",
   "name": "python",
   "nbconvert_exporter": "python",
   "pygments_lexer": "ipython3",
   "version": "3.6.2"
  }
 },
 "nbformat": 4,
 "nbformat_minor": 2
}
