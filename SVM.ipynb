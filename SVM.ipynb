{
 "cells": [
  {
   "cell_type": "code",
   "execution_count": 40,
   "metadata": {
    "collapsed": true
   },
   "outputs": [],
   "source": [
    "import numpy as np\n",
    "import pandas as pd\n",
    "import matplotlib.pyplot as plt\n",
    "import os\n",
    "from sklearn.svm import SVC\n",
    "from sklearn.svm import LinearSVC\n",
    "from sklearn.pipeline import Pipeline\n",
    "from sklearn.decomposition import PCA\n",
    "from sklearn.model_selection import train_test_split\n",
    "from sklearn.model_selection import GridSearchCV\n",
    "from sklearn.metrics import roc_curve, auc\n",
    "% matplotlib inline"
   ]
  },
  {
   "cell_type": "markdown",
   "metadata": {},
   "source": [
    "## Wisconsin Breast Cancer Database"
   ]
  },
  {
   "cell_type": "code",
   "execution_count": 58,
   "metadata": {},
   "outputs": [
    {
     "name": "stdout",
     "output_type": "stream",
     "text": [
      "X_tr: (546, 9)\n",
      "X_te: (137, 9)\n",
      "y_tr: (546,)\n",
      "y_te: (137,)\n"
     ]
    }
   ],
   "source": [
    "# import the data\n",
    "bcw_data = pd.read_csv(os.path.join(\"data\", \"uci\", \"breast-cancer-wisconsin.data\"), na_values=\"?\", header=None)\n",
    "\n",
    "# set the column names\n",
    "bcw_data.columns = [\"ID\",\"THICKNESS\",\"CELL_SIZE_UNIFORMITY\",\"CELL_SHAPE_UNIFORMITY\",\"MARGINAL_ADHESION\",\"EPI_CELL_SIZE\",\"BARE_NUCLEI\",\"BLAND_CHROMATIN\",\"NORMAL_NUCLEOLI\",\"MITOSES\",\"CLASS\"]\n",
    "\n",
    "# remove NAs\n",
    "bcw_data = bcw_data.dropna(axis=0, how=\"any\")\n",
    "bcw_data = bcw_data.drop(\"ID\", axis=1)\n",
    "\n",
    "y1 = bcw_data.pop(\"CLASS\")\n",
    "X1 = bcw_data\n",
    "\n",
    "# split the data\n",
    "X_tr, X_te, y_tr, y_te = train_test_split(X1, y1, test_size=0.2, random_state=0)\n",
    "print(\"X_tr:\", X_tr.shape)\n",
    "print(\"X_te:\", X_te.shape)\n",
    "print(\"y_tr:\", y_tr.shape)\n",
    "print(\"y_te:\", y_te.shape)"
   ]
  },
  {
   "cell_type": "markdown",
   "metadata": {},
   "source": [
    "### RBF Kernel"
   ]
  },
  {
   "cell_type": "code",
   "execution_count": 59,
   "metadata": {},
   "outputs": [
    {
     "data": {
      "text/html": [
       "<div>\n",
       "<style>\n",
       "    .dataframe thead tr:only-child th {\n",
       "        text-align: right;\n",
       "    }\n",
       "\n",
       "    .dataframe thead th {\n",
       "        text-align: left;\n",
       "    }\n",
       "\n",
       "    .dataframe tbody tr th {\n",
       "        vertical-align: top;\n",
       "    }\n",
       "</style>\n",
       "<table border=\"1\" class=\"dataframe\">\n",
       "  <thead>\n",
       "    <tr style=\"text-align: right;\">\n",
       "      <th></th>\n",
       "      <th>C</th>\n",
       "      <th>kernel</th>\n",
       "      <th>mean_accuracy</th>\n",
       "      <th>std</th>\n",
       "    </tr>\n",
       "  </thead>\n",
       "  <tbody>\n",
       "    <tr>\n",
       "      <th>4</th>\n",
       "      <td>2</td>\n",
       "      <td>rbf</td>\n",
       "      <td>0.957875</td>\n",
       "      <td>0.014715</td>\n",
       "    </tr>\n",
       "    <tr>\n",
       "      <th>5</th>\n",
       "      <td>3</td>\n",
       "      <td>rbf</td>\n",
       "      <td>0.957875</td>\n",
       "      <td>0.014715</td>\n",
       "    </tr>\n",
       "    <tr>\n",
       "      <th>3</th>\n",
       "      <td>1.5</td>\n",
       "      <td>rbf</td>\n",
       "      <td>0.956044</td>\n",
       "      <td>0.013326</td>\n",
       "    </tr>\n",
       "    <tr>\n",
       "      <th>2</th>\n",
       "      <td>1</td>\n",
       "      <td>rbf</td>\n",
       "      <td>0.954212</td>\n",
       "      <td>0.016211</td>\n",
       "    </tr>\n",
       "    <tr>\n",
       "      <th>1</th>\n",
       "      <td>0.5</td>\n",
       "      <td>rbf</td>\n",
       "      <td>0.950549</td>\n",
       "      <td>0.014861</td>\n",
       "    </tr>\n",
       "    <tr>\n",
       "      <th>0</th>\n",
       "      <td>0.25</td>\n",
       "      <td>rbf</td>\n",
       "      <td>0.946886</td>\n",
       "      <td>0.010504</td>\n",
       "    </tr>\n",
       "  </tbody>\n",
       "</table>\n",
       "</div>"
      ],
      "text/plain": [
       "      C kernel  mean_accuracy       std\n",
       "4     2    rbf       0.957875  0.014715\n",
       "5     3    rbf       0.957875  0.014715\n",
       "3   1.5    rbf       0.956044  0.013326\n",
       "2     1    rbf       0.954212  0.016211\n",
       "1   0.5    rbf       0.950549  0.014861\n",
       "0  0.25    rbf       0.946886  0.010504"
      ]
     },
     "execution_count": 59,
     "metadata": {},
     "output_type": "execute_result"
    }
   ],
   "source": [
    "pipe1 = Pipeline([\n",
    "    ('pca', None),\n",
    "    ('svm', SVC())\n",
    "])\n",
    "\n",
    "grid1 = {\n",
    "    'svm__C': [0.25, 0.5, 1, 1.5, 2, 3],\n",
    "    'svm__kernel': ['rbf'],\n",
    "}\n",
    "\n",
    "grid_cv1 = GridSearchCV(pipe1, grid1, cv=5)\n",
    "\n",
    "grid_cv1.fit(X_tr, y_tr)\n",
    "\n",
    "test_score = grid_cv1.decision_function(X_te)\n",
    "\n",
    "# Collect results and sort them\n",
    "df1 = pd.DataFrame.from_items([\n",
    "    ('C', grid_cv1.cv_results_['param_svm__C']),\n",
    "    ('kernel', grid_cv1.cv_results_['param_svm__kernel']),\n",
    "    ('mean_accuracy', grid_cv1.cv_results_['mean_test_score']),\n",
    "    ('std', grid_cv1.cv_results_['std_test_score'])\n",
    "])\n",
    "\n",
    "df1.sort_values(by='mean_accuracy', ascending=False).head(10)"
   ]
  },
  {
   "cell_type": "code",
   "execution_count": 60,
   "metadata": {},
   "outputs": [
    {
     "name": "stdout",
     "output_type": "stream",
     "text": [
      "Test Accuracy: 0.9635036496350365\n"
     ]
    }
   ],
   "source": [
    "test_acc = grid_cv1.score(X_te, y_te)\n",
    "print(\"Test Accuracy:\",test_acc)"
   ]
  },
  {
   "cell_type": "code",
   "execution_count": 61,
   "metadata": {},
   "outputs": [
    {
     "data": {
      "image/png": "[encoded data removed]",
      "text/plain": [
       "<matplotlib.figure.Figure at 0x164f53248d0>"
      ]
     },
     "metadata": {},
     "output_type": "display_data"
    }
   ],
   "source": [
    "fpr, tpr, _ = roc_curve(y_te, test_score, pos_label=4)\n",
    "roc_auc = auc(fpr, tpr)\n",
    "\n",
    "plt.figure()\n",
    "lw = 2\n",
    "plt.plot(fpr, tpr, color='darkorange',lw=lw, label='ROC curve (area = %0.2f)' % roc_auc)\n",
    "plt.plot([0, 1], [0, 1], color='navy', lw=lw, linestyle='--')\n",
    "plt.xlim([0.0, 1.0])\n",
    "plt.ylim([0.0, 1.05])\n",
    "plt.xlabel('False Positive Rate')\n",
    "plt.ylabel('True Positive Rate')\n",
    "plt.title('Receiver operating characteristic example')\n",
    "plt.legend(loc=\"lower right\")\n",
    "plt.show()"
   ]
  },
  {
   "cell_type": "markdown",
   "metadata": {
    "collapsed": true
   },
   "source": [
    "### Linear Kernel"
   ]
  },
  {
   "cell_type": "code",
   "execution_count": 17,
   "metadata": {},
   "outputs": [
    {
     "data": {
      "text/html": [
       "<div>\n",
       "<style>\n",
       "    .dataframe thead tr:only-child th {\n",
       "        text-align: right;\n",
       "    }\n",
       "\n",
       "    .dataframe thead th {\n",
       "        text-align: left;\n",
       "    }\n",
       "\n",
       "    .dataframe tbody tr th {\n",
       "        vertical-align: top;\n",
       "    }\n",
       "</style>\n",
       "<table border=\"1\" class=\"dataframe\">\n",
       "  <thead>\n",
       "    <tr style=\"text-align: right;\">\n",
       "      <th></th>\n",
       "      <th>C</th>\n",
       "      <th>mean_accuracy</th>\n",
       "      <th>std</th>\n",
       "    </tr>\n",
       "  </thead>\n",
       "  <tbody>\n",
       "    <tr>\n",
       "      <th>0</th>\n",
       "      <td>0.25</td>\n",
       "      <td>0.965201</td>\n",
       "      <td>0.012693</td>\n",
       "    </tr>\n",
       "    <tr>\n",
       "      <th>1</th>\n",
       "      <td>0.5</td>\n",
       "      <td>0.965201</td>\n",
       "      <td>0.009030</td>\n",
       "    </tr>\n",
       "    <tr>\n",
       "      <th>2</th>\n",
       "      <td>1</td>\n",
       "      <td>0.963370</td>\n",
       "      <td>0.007192</td>\n",
       "    </tr>\n",
       "    <tr>\n",
       "      <th>4</th>\n",
       "      <td>2</td>\n",
       "      <td>0.963370</td>\n",
       "      <td>0.010855</td>\n",
       "    </tr>\n",
       "    <tr>\n",
       "      <th>3</th>\n",
       "      <td>1.5</td>\n",
       "      <td>0.961538</td>\n",
       "      <td>0.009017</td>\n",
       "    </tr>\n",
       "    <tr>\n",
       "      <th>6</th>\n",
       "      <td>5</td>\n",
       "      <td>0.956044</td>\n",
       "      <td>0.003502</td>\n",
       "    </tr>\n",
       "    <tr>\n",
       "      <th>5</th>\n",
       "      <td>3</td>\n",
       "      <td>0.950549</td>\n",
       "      <td>0.008976</td>\n",
       "    </tr>\n",
       "  </tbody>\n",
       "</table>\n",
       "</div>"
      ],
      "text/plain": [
       "      C  mean_accuracy       std\n",
       "0  0.25       0.965201  0.012693\n",
       "1   0.5       0.965201  0.009030\n",
       "2     1       0.963370  0.007192\n",
       "4     2       0.963370  0.010855\n",
       "3   1.5       0.961538  0.009017\n",
       "6     5       0.956044  0.003502\n",
       "5     3       0.950549  0.008976"
      ]
     },
     "execution_count": 17,
     "metadata": {},
     "output_type": "execute_result"
    }
   ],
   "source": [
    "pipe2 = Pipeline([\n",
    "    ('pca', None),\n",
    "    ('svm', LinearSVC())\n",
    "])\n",
    "\n",
    "grid2 = {\n",
    "    'svm__C': [0.25, 0.5, 1, 1.5, 2, 3, 5],\n",
    "}\n",
    "\n",
    "grid_cv2 = GridSearchCV(pipe2, grid2, cv=2)\n",
    "\n",
    "grid_cv2.fit(X_tr, y_tr)\n",
    "\n",
    "# Collect results and sort them\n",
    "df2 = pd.DataFrame.from_items([\n",
    "    ('C', grid_cv2.cv_results_['param_svm__C']),\n",
    "    ('mean_accuracy', grid_cv2.cv_results_['mean_test_score']),\n",
    "    ('std', grid_cv2.cv_results_['std_test_score'])\n",
    "])\n",
    "\n",
    "df2.sort_values(by='mean_accuracy', ascending=False).head(10)"
   ]
  },
  {
   "cell_type": "code",
   "execution_count": 19,
   "metadata": {},
   "outputs": [
    {
     "name": "stdout",
     "output_type": "stream",
     "text": [
      "Test Accuracy: 0.9562043795620438\n"
     ]
    }
   ],
   "source": [
    "print(\"Test Accuracy:\",grid_cv2.score(X_te, y_te))"
   ]
  },
  {
   "cell_type": "code",
   "execution_count": 46,
   "metadata": {},
   "outputs": [
    {
     "data": {
      "image/png": "[encoded data removed]",
      "text/plain": [
       "<matplotlib.figure.Figure at 0x164f5147470>"
      ]
     },
     "metadata": {},
     "output_type": "display_data"
    }
   ],
   "source": [
    "test_score = grid_cv2.decision_function(X_te)\n",
    "\n",
    "fpr, tpr, _ = roc_curve(y_te, test_score, pos_label=4)\n",
    "roc_auc = auc(fpr, tpr)\n",
    "\n",
    "plt.figure()\n",
    "lw = 2\n",
    "plt.plot(fpr, tpr, color='darkorange',lw=lw, label='ROC curve (area = %0.2f)' % roc_auc)\n",
    "plt.plot([0, 1], [0, 1], color='navy', lw=lw, linestyle='--')\n",
    "plt.xlim([0.0, 1.0])\n",
    "plt.ylim([0.0, 1.05])\n",
    "plt.xlabel('False Positive Rate')\n",
    "plt.ylabel('True Positive Rate')\n",
    "plt.title('Receiver operating characteristic example')\n",
    "plt.legend(loc=\"lower right\")\n",
    "plt.show()"
   ]
  },
  {
   "cell_type": "markdown",
   "metadata": {},
   "source": [
    "## Wisconsin Diagnostic Breast Cancer (WDBC)"
   ]
  },
  {
   "cell_type": "code",
   "execution_count": 74,
   "metadata": {},
   "outputs": [
    {
     "name": "stdout",
     "output_type": "stream",
     "text": [
      "X_tr: (455, 30)\n",
      "X_te: (114, 30)\n",
      "y_tr: (455,)\n",
      "y_te: (114,)\n"
     ]
    }
   ],
   "source": [
    "# import the data\n",
    "wdbc_data = pd.read_csv(os.path.join(\"data\", \"uci\", \"wdbc.data\"), na_values=\"?\", header=None)\n",
    "\n",
    "# set the column names\n",
    "wdbc_data=wdbc_data.rename(columns = {0:'ID', 1:\"CLASS\", 2: \"MEAN_RADIUS\", 3: \"MEAN_TEXTURE\", 4: \"MEAN_PERIMETER\", 5: \"MEAN_AREA\", 6: \"MEAN_SMOOTHNESS\", 7: \"MEAN_COMPACTNESS\", 8: \"MEAN_CONCAVITY\", 9:\"MEAN_CONCAVE_POINTS\", 10: \"MEAN_SYMMETRY\", 11: \"MEAN_FRACTAL_DIMENSIONS\", 12: \"RADIUS_SE\", 13: \"TEXTURE_SE\", 14: \"PERIMETER_SE\", 15: \"AREA_SE\", 16: \"SMOOTHNESS_SE\", 17: \"COMPACTNESS_SE\", 18: \"CONCAVITY_SE\", 19: \"CONCAVE_POINTS_SE\", 20: \"SYMMETRY_SE\",21: \"FRACTAL_DIMENSIONS_SE\", 22: \"WORST_RADIUS\", 23: \"WORST_TEXTURE\", 24: \"WORST_PERIMETER\", 25: \"WORST_AREA\", 26: \"WORST_SMOOTHNESS\", 27: \"WORST_COMPACTNESS\", 28: \"WORST_CONCAVITY\", 29: \"WORST_CONCAVE_POINTS\", 30: \"WORST_SYMMETRY\", 31: \"WORST_FRACTAL_DIMENSIONS\"})\n",
    "wdbc_data = wdbc_data.dropna(axis=0, how=\"any\")\n",
    "\n",
    "y2 = wdbc_data.pop(\"CLASS\")\n",
    "X2 = wdbc_data.drop([\"ID\"], axis=1)\n",
    "\n",
    "# split the data\n",
    "X_tr, X_te, y_tr, y_te = train_test_split(X2, y2, test_size=0.2, random_state=0)\n",
    "print(\"X_tr:\", X_tr.shape)\n",
    "print(\"X_te:\", X_te.shape)\n",
    "print(\"y_tr:\", y_tr.shape)\n",
    "print(\"y_te:\", y_te.shape)"
   ]
  },
  {
   "cell_type": "markdown",
   "metadata": {},
   "source": [
    "### RBF Kernel"
   ]
  },
  {
   "cell_type": "code",
   "execution_count": 75,
   "metadata": {},
   "outputs": [
    {
     "data": {
      "text/html": [
       "<div>\n",
       "<style>\n",
       "    .dataframe thead tr:only-child th {\n",
       "        text-align: right;\n",
       "    }\n",
       "\n",
       "    .dataframe thead th {\n",
       "        text-align: left;\n",
       "    }\n",
       "\n",
       "    .dataframe tbody tr th {\n",
       "        vertical-align: top;\n",
       "    }\n",
       "</style>\n",
       "<table border=\"1\" class=\"dataframe\">\n",
       "  <thead>\n",
       "    <tr style=\"text-align: right;\">\n",
       "      <th></th>\n",
       "      <th>C</th>\n",
       "      <th>kernel</th>\n",
       "      <th>mean_accuracy</th>\n",
       "      <th>std</th>\n",
       "    </tr>\n",
       "  </thead>\n",
       "  <tbody>\n",
       "    <tr>\n",
       "      <th>0</th>\n",
       "      <td>0.25</td>\n",
       "      <td>rbf</td>\n",
       "      <td>0.637363</td>\n",
       "      <td>1.110223e-16</td>\n",
       "    </tr>\n",
       "    <tr>\n",
       "      <th>1</th>\n",
       "      <td>0.5</td>\n",
       "      <td>rbf</td>\n",
       "      <td>0.637363</td>\n",
       "      <td>1.110223e-16</td>\n",
       "    </tr>\n",
       "    <tr>\n",
       "      <th>2</th>\n",
       "      <td>1</td>\n",
       "      <td>rbf</td>\n",
       "      <td>0.637363</td>\n",
       "      <td>1.110223e-16</td>\n",
       "    </tr>\n",
       "    <tr>\n",
       "      <th>3</th>\n",
       "      <td>1.5</td>\n",
       "      <td>rbf</td>\n",
       "      <td>0.637363</td>\n",
       "      <td>1.110223e-16</td>\n",
       "    </tr>\n",
       "    <tr>\n",
       "      <th>4</th>\n",
       "      <td>2</td>\n",
       "      <td>rbf</td>\n",
       "      <td>0.637363</td>\n",
       "      <td>1.110223e-16</td>\n",
       "    </tr>\n",
       "    <tr>\n",
       "      <th>5</th>\n",
       "      <td>3</td>\n",
       "      <td>rbf</td>\n",
       "      <td>0.637363</td>\n",
       "      <td>1.110223e-16</td>\n",
       "    </tr>\n",
       "  </tbody>\n",
       "</table>\n",
       "</div>"
      ],
      "text/plain": [
       "      C kernel  mean_accuracy           std\n",
       "0  0.25    rbf       0.637363  1.110223e-16\n",
       "1   0.5    rbf       0.637363  1.110223e-16\n",
       "2     1    rbf       0.637363  1.110223e-16\n",
       "3   1.5    rbf       0.637363  1.110223e-16\n",
       "4     2    rbf       0.637363  1.110223e-16\n",
       "5     3    rbf       0.637363  1.110223e-16"
      ]
     },
     "execution_count": 75,
     "metadata": {},
     "output_type": "execute_result"
    }
   ],
   "source": [
    "pipe3 = Pipeline([\n",
    "    ('pca', None),\n",
    "    ('svm', SVC())\n",
    "])\n",
    "\n",
    "grid3 = {\n",
    "    'svm__C': [0.25, 0.5, 1, 1.5, 2, 3],\n",
    "    'svm__kernel': ['rbf'],\n",
    "}\n",
    "\n",
    "grid_cv3 = GridSearchCV(pipe3, grid3, cv=5)\n",
    "\n",
    "grid_cv3.fit(X_tr, y_tr)\n",
    "\n",
    "test_score = grid_cv3.decision_function(X_te)\n",
    "\n",
    "# Collect results and sort them\n",
    "df3 = pd.DataFrame.from_items([\n",
    "    ('C', grid_cv3.cv_results_['param_svm__C']),\n",
    "    ('kernel', grid_cv3.cv_results_['param_svm__kernel']),\n",
    "    ('mean_accuracy', grid_cv3.cv_results_['mean_test_score']),\n",
    "    ('std', grid_cv3.cv_results_['std_test_score'])\n",
    "])\n",
    "\n",
    "df3.sort_values(by='mean_accuracy', ascending=False).head(10)"
   ]
  },
  {
   "cell_type": "code",
   "execution_count": 76,
   "metadata": {},
   "outputs": [
    {
     "name": "stdout",
     "output_type": "stream",
     "text": [
      "Test Accuracy: 0.5877192982456141\n"
     ]
    }
   ],
   "source": [
    "print(\"Test Accuracy:\",grid_cv3.score(X_te, y_te))"
   ]
  },
  {
   "cell_type": "code",
   "execution_count": 77,
   "metadata": {},
   "outputs": [
    {
     "data": {
      "image/png": "[encoded data removed]",
      "text/plain": [
       "<matplotlib.figure.Figure at 0x164f5046fd0>"
      ]
     },
     "metadata": {},
     "output_type": "display_data"
    }
   ],
   "source": [
    "test_score = grid_cv3.decision_function(X_te)\n",
    "\n",
    "fpr, tpr, _ = roc_curve(y_te, test_score, pos_label=\"M\")\n",
    "roc_auc = auc(fpr, tpr)\n",
    "\n",
    "plt.figure()\n",
    "lw = 2\n",
    "plt.plot(fpr, tpr, color='darkorange',lw=lw, label='ROC curve (area = %0.2f)' % roc_auc)\n",
    "plt.plot([0, 1], [0, 1], color='navy', lw=lw, linestyle='--')\n",
    "plt.xlim([0.0, 1.0])\n",
    "plt.ylim([0.0, 1.05])\n",
    "plt.xlabel('False Positive Rate')\n",
    "plt.ylabel('True Positive Rate')\n",
    "plt.title('Receiver operating characteristic example')\n",
    "plt.legend(loc=\"lower right\")\n",
    "plt.show()"
   ]
  },
  {
   "cell_type": "code",
   "execution_count": 78,
   "metadata": {},
   "outputs": [
    {
     "data": {
      "text/plain": [
       "array(['B', 'B', 'B', 'B', 'B', 'B', 'B', 'B', 'B', 'B', 'B', 'B', 'B',\n",
       "       'B', 'B', 'B', 'B', 'B', 'B', 'B', 'B', 'B', 'B', 'B', 'B', 'B',\n",
       "       'B', 'B', 'B', 'B', 'B', 'B', 'B', 'B', 'B', 'B', 'B', 'B', 'B',\n",
       "       'B', 'B', 'B', 'B', 'B', 'B', 'B', 'B', 'B', 'B', 'B', 'B', 'B',\n",
       "       'B', 'B', 'B', 'B', 'B', 'B', 'B', 'B', 'B', 'B', 'B', 'B', 'B',\n",
       "       'B', 'B', 'B', 'B', 'B', 'B', 'B', 'B', 'B', 'B', 'B', 'B', 'B',\n",
       "       'B', 'B', 'B', 'B', 'B', 'B', 'B', 'B', 'B', 'B', 'B', 'B', 'B',\n",
       "       'B', 'B', 'B', 'B', 'B', 'B', 'B', 'B', 'B', 'B', 'B', 'B', 'B',\n",
       "       'B', 'B', 'B', 'B', 'B', 'B', 'B', 'B', 'B', 'B'], dtype=object)"
      ]
     },
     "execution_count": 78,
     "metadata": {},
     "output_type": "execute_result"
    }
   ],
   "source": [
    "yhat = grid_cv3.predict(X_te)\n",
    "yhat"
   ]
  },
  {
   "cell_type": "markdown",
   "metadata": {},
   "source": [
    "### Linear Kernel"
   ]
  },
  {
   "cell_type": "code",
   "execution_count": 80,
   "metadata": {},
   "outputs": [
    {
     "data": {
      "text/html": [
       "<div>\n",
       "<style>\n",
       "    .dataframe thead tr:only-child th {\n",
       "        text-align: right;\n",
       "    }\n",
       "\n",
       "    .dataframe thead th {\n",
       "        text-align: left;\n",
       "    }\n",
       "\n",
       "    .dataframe tbody tr th {\n",
       "        vertical-align: top;\n",
       "    }\n",
       "</style>\n",
       "<table border=\"1\" class=\"dataframe\">\n",
       "  <thead>\n",
       "    <tr style=\"text-align: right;\">\n",
       "      <th></th>\n",
       "      <th>C</th>\n",
       "      <th>mean_accuracy</th>\n",
       "      <th>std</th>\n",
       "    </tr>\n",
       "  </thead>\n",
       "  <tbody>\n",
       "    <tr>\n",
       "      <th>4</th>\n",
       "      <td>2</td>\n",
       "      <td>0.918681</td>\n",
       "      <td>0.002377</td>\n",
       "    </tr>\n",
       "    <tr>\n",
       "      <th>1</th>\n",
       "      <td>0.5</td>\n",
       "      <td>0.916484</td>\n",
       "      <td>0.008608</td>\n",
       "    </tr>\n",
       "    <tr>\n",
       "      <th>2</th>\n",
       "      <td>1</td>\n",
       "      <td>0.914286</td>\n",
       "      <td>0.006405</td>\n",
       "    </tr>\n",
       "    <tr>\n",
       "      <th>6</th>\n",
       "      <td>5</td>\n",
       "      <td>0.876923</td>\n",
       "      <td>0.035435</td>\n",
       "    </tr>\n",
       "    <tr>\n",
       "      <th>3</th>\n",
       "      <td>1.5</td>\n",
       "      <td>0.839560</td>\n",
       "      <td>0.081671</td>\n",
       "    </tr>\n",
       "    <tr>\n",
       "      <th>0</th>\n",
       "      <td>0.25</td>\n",
       "      <td>0.819780</td>\n",
       "      <td>0.097100</td>\n",
       "    </tr>\n",
       "    <tr>\n",
       "      <th>5</th>\n",
       "      <td>3</td>\n",
       "      <td>0.676923</td>\n",
       "      <td>0.249062</td>\n",
       "    </tr>\n",
       "  </tbody>\n",
       "</table>\n",
       "</div>"
      ],
      "text/plain": [
       "      C  mean_accuracy       std\n",
       "4     2       0.918681  0.002377\n",
       "1   0.5       0.916484  0.008608\n",
       "2     1       0.914286  0.006405\n",
       "6     5       0.876923  0.035435\n",
       "3   1.5       0.839560  0.081671\n",
       "0  0.25       0.819780  0.097100\n",
       "5     3       0.676923  0.249062"
      ]
     },
     "execution_count": 80,
     "metadata": {},
     "output_type": "execute_result"
    }
   ],
   "source": [
    "pipe4 = Pipeline([\n",
    "    ('pca', None),\n",
    "    ('svm', LinearSVC())\n",
    "])\n",
    "\n",
    "grid4 = {\n",
    "    'svm__C': [0.25, 0.5, 1, 1.5, 2, 3, 5],\n",
    "}\n",
    "\n",
    "grid_cv4 = GridSearchCV(pipe4, grid4, cv=2)\n",
    "\n",
    "grid_cv4.fit(X_tr, y_tr)\n",
    "\n",
    "# Collect results and sort them\n",
    "df4 = pd.DataFrame.from_items([\n",
    "    ('C', grid_cv4.cv_results_['param_svm__C']),\n",
    "    ('mean_accuracy', grid_cv4.cv_results_['mean_test_score']),\n",
    "    ('std', grid_cv4.cv_results_['std_test_score'])\n",
    "])\n",
    "\n",
    "df4.sort_values(by='mean_accuracy', ascending=False).head(10)"
   ]
  },
  {
   "cell_type": "code",
   "execution_count": 81,
   "metadata": {},
   "outputs": [
    {
     "name": "stdout",
     "output_type": "stream",
     "text": [
      "Test Accuracy: 0.9385964912280702\n"
     ]
    }
   ],
   "source": [
    "print(\"Test Accuracy:\",grid_cv4.score(X_te, y_te))"
   ]
  },
  {
   "cell_type": "code",
   "execution_count": 82,
   "metadata": {},
   "outputs": [
    {
     "data": {
      "image/png": "[encoded data removed]",
      "text/plain": [
       "<matplotlib.figure.Figure at 0x164f4fe5780>"
      ]
     },
     "metadata": {},
     "output_type": "display_data"
    }
   ],
   "source": [
    "test_score = grid_cv4.decision_function(X_te)\n",
    "\n",
    "fpr, tpr, _ = roc_curve(y_te, test_score, pos_label=\"M\")\n",
    "roc_auc = auc(fpr, tpr)\n",
    "\n",
    "plt.figure()\n",
    "lw = 2\n",
    "plt.plot(fpr, tpr, color='darkorange',lw=lw, label='ROC curve (area = %0.2f)' % roc_auc)\n",
    "plt.plot([0, 1], [0, 1], color='navy', lw=lw, linestyle='--')\n",
    "plt.xlim([0.0, 1.0])\n",
    "plt.ylim([0.0, 1.05])\n",
    "plt.xlabel('False Positive Rate')\n",
    "plt.ylabel('True Positive Rate')\n",
    "plt.title('Receiver operating characteristic example')\n",
    "plt.legend(loc=\"lower right\")\n",
    "plt.show()"
   ]
  },
  {
   "cell_type": "markdown",
   "metadata": {},
   "source": [
    "## Wisconsin Prognostic Breast Cancer (WPBC)"
   ]
  },
  {
   "cell_type": "code",
   "execution_count": 98,
   "metadata": {},
   "outputs": [
    {
     "name": "stdout",
     "output_type": "stream",
     "text": [
      "X_tr: (155, 32)\n",
      "X_te: (39, 32)\n",
      "y_tr: (155,)\n",
      "y_te: (39,)\n",
      "y_class_tr: (155,)\n",
      "y_class_te: (39,)\n"
     ]
    },
    {
     "name": "stderr",
     "output_type": "stream",
     "text": [
      "C:\\Users\\eric\\Anaconda2\\envs\\exts-aml2\\lib\\site-packages\\ipykernel_launcher.py:10: SettingWithCopyWarning: \n",
      "A value is trying to be set on a copy of a slice from a DataFrame\n",
      "\n",
      "See the caveats in the documentation: http://pandas.pydata.org/pandas-docs/stable/indexing.html#indexing-view-versus-copy\n",
      "  # Remove the CWD from sys.path while we load stuff.\n"
     ]
    }
   ],
   "source": [
    "# import the data\n",
    "wpbc_data = pd.read_csv(os.path.join(\"data\", \"uci\", \"wpbc.data\"), na_values=\"?\", header=None)\n",
    "\n",
    "# set the column names\n",
    "wpbc_data=wpbc_data.rename(columns = {0:'ID', 1:\"CLASS\", 2: \"TIME\", 3: \"MEAN_RADIUS\", 4: \"MEAN_TEXTURE\", 5: \"MEAN_PERIMITER\", 6: \"MEAN_AREA\", 7: \"MEAN_SMOOTHNESS\", 8: \"MEAN_COMPACTNESS\", 9: \"MEAN_CONCAVITY\", 10:\"MEAN_CONCAVE_POINTS\", 11: \"MEAN_SYMMETRY\", 12: \"MEAN_FRACTAL_DIMENSIONS\", 13: \"RADIUS_SE\", 14: \"TEXTURE_SE\", 15: \"PERIMETER_SE\", 16: \"AREA_SE\", 17: \"SMOOTHNESS_SE\", 18: \"COMPACTNESS_SE\", 19: \"CONCAVITY_SE\", 20: \"CONCAVE_POINTS_SE\", 21: \"SYMMETRY_SE\",22: \"FRACTAL_DIMENSIONS_SE\", 23: \"WORST_RADIUS\", 24: \"WORST_TEXTURE\", 25: \"WORST_PERIMETER\", 26: \"WORST_AREA\", 27: \"WORST_SMOOTHNESS\", 28: \"WORST_COMPACTNESS\", 29: \"WORST_CONCAVITY\", 30: \"WORST_CONCAVE_POINTS\", 31: \"WORST_SYMMETRY\", 32: \"WORST_FRACTAL_DIMENSIONS\", 33: \"TUMOR_SIZE\", 34: \"LYMPH_STATUS\"})\n",
    "\n",
    "wpbc_data = wpbc_data.dropna(axis=0, how=\"any\")\n",
    "\n",
    "wpbc_data['OUTCOME'] = 0\n",
    "wpbc_data['OUTCOME'][(wpbc_data.CLASS == \"R\") & (wpbc_data.TIME <= 24)] = 1\n",
    "\n",
    "y_class = wpbc_data.pop(\"CLASS\")\n",
    "y3 = wpbc_data.pop(\"OUTCOME\")\n",
    "X3 = wpbc_data.drop([\"ID\",\"TIME\"], axis=1)\n",
    "\n",
    "# split the data\n",
    "X_tr, X_te, y_tr, y_te, y_class_tr, y_class_te = train_test_split(X3, y3, y_class, test_size=0.2, random_state=0)\n",
    "print(\"X_tr:\", X_tr.shape)\n",
    "print(\"X_te:\", X_te.shape)\n",
    "print(\"y_tr:\", y_tr.shape)\n",
    "print(\"y_te:\", y_te.shape)\n",
    "print(\"y_class_tr:\", y_class_tr.shape)\n",
    "print(\"y_class_te:\", y_class_te.shape)"
   ]
  },
  {
   "cell_type": "markdown",
   "metadata": {},
   "source": [
    "### RBF Kernel"
   ]
  },
  {
   "cell_type": "code",
   "execution_count": 101,
   "metadata": {},
   "outputs": [
    {
     "data": {
      "text/html": [
       "<div>\n",
       "<style>\n",
       "    .dataframe thead tr:only-child th {\n",
       "        text-align: right;\n",
       "    }\n",
       "\n",
       "    .dataframe thead th {\n",
       "        text-align: left;\n",
       "    }\n",
       "\n",
       "    .dataframe tbody tr th {\n",
       "        vertical-align: top;\n",
       "    }\n",
       "</style>\n",
       "<table border=\"1\" class=\"dataframe\">\n",
       "  <thead>\n",
       "    <tr style=\"text-align: right;\">\n",
       "      <th></th>\n",
       "      <th>C</th>\n",
       "      <th>kernel</th>\n",
       "      <th>mean_accuracy</th>\n",
       "      <th>std</th>\n",
       "    </tr>\n",
       "  </thead>\n",
       "  <tbody>\n",
       "    <tr>\n",
       "      <th>0</th>\n",
       "      <td>0.25</td>\n",
       "      <td>rbf</td>\n",
       "      <td>0.76129</td>\n",
       "      <td>0.009855</td>\n",
       "    </tr>\n",
       "    <tr>\n",
       "      <th>1</th>\n",
       "      <td>0.5</td>\n",
       "      <td>rbf</td>\n",
       "      <td>0.76129</td>\n",
       "      <td>0.009855</td>\n",
       "    </tr>\n",
       "    <tr>\n",
       "      <th>2</th>\n",
       "      <td>1</td>\n",
       "      <td>rbf</td>\n",
       "      <td>0.76129</td>\n",
       "      <td>0.009855</td>\n",
       "    </tr>\n",
       "    <tr>\n",
       "      <th>3</th>\n",
       "      <td>1.5</td>\n",
       "      <td>rbf</td>\n",
       "      <td>0.76129</td>\n",
       "      <td>0.009855</td>\n",
       "    </tr>\n",
       "    <tr>\n",
       "      <th>4</th>\n",
       "      <td>2</td>\n",
       "      <td>rbf</td>\n",
       "      <td>0.76129</td>\n",
       "      <td>0.009855</td>\n",
       "    </tr>\n",
       "    <tr>\n",
       "      <th>5</th>\n",
       "      <td>3</td>\n",
       "      <td>rbf</td>\n",
       "      <td>0.76129</td>\n",
       "      <td>0.009855</td>\n",
       "    </tr>\n",
       "  </tbody>\n",
       "</table>\n",
       "</div>"
      ],
      "text/plain": [
       "      C kernel  mean_accuracy       std\n",
       "0  0.25    rbf        0.76129  0.009855\n",
       "1   0.5    rbf        0.76129  0.009855\n",
       "2     1    rbf        0.76129  0.009855\n",
       "3   1.5    rbf        0.76129  0.009855\n",
       "4     2    rbf        0.76129  0.009855\n",
       "5     3    rbf        0.76129  0.009855"
      ]
     },
     "execution_count": 101,
     "metadata": {},
     "output_type": "execute_result"
    }
   ],
   "source": [
    "# first let's try using the recurrent/non-recurrent label\n",
    "pipe5 = Pipeline([\n",
    "    ('pca', None),\n",
    "    ('svm', SVC())\n",
    "])\n",
    "\n",
    "grid5 = {\n",
    "    'svm__C': [0.25, 0.5, 1, 1.5, 2, 3],\n",
    "    'svm__kernel': ['rbf'],\n",
    "}\n",
    "\n",
    "grid_cv5 = GridSearchCV(pipe5, grid5, cv=5)\n",
    "\n",
    "grid_cv5.fit(X_tr, y_class_tr)\n",
    "\n",
    "# Collect results and sort them\n",
    "df5 = pd.DataFrame.from_items([\n",
    "    ('C', grid_cv5.cv_results_['param_svm__C']),\n",
    "    ('kernel', grid_cv5.cv_results_['param_svm__kernel']),\n",
    "    ('mean_accuracy', grid_cv5.cv_results_['mean_test_score']),\n",
    "    ('std', grid_cv5.cv_results_['std_test_score'])\n",
    "])\n",
    "\n",
    "df5.sort_values(by='mean_accuracy', ascending=False).head(10)"
   ]
  },
  {
   "cell_type": "code",
   "execution_count": 103,
   "metadata": {},
   "outputs": [
    {
     "name": "stdout",
     "output_type": "stream",
     "text": [
      "Test Accuracy: 0.7692307692307693\n"
     ]
    }
   ],
   "source": [
    "print(\"Test Accuracy:\",grid_cv5.score(X_te, y_class_te))"
   ]
  },
  {
   "cell_type": "code",
   "execution_count": 104,
   "metadata": {},
   "outputs": [
    {
     "data": {
      "text/html": [
       "<div>\n",
       "<style>\n",
       "    .dataframe thead tr:only-child th {\n",
       "        text-align: right;\n",
       "    }\n",
       "\n",
       "    .dataframe thead th {\n",
       "        text-align: left;\n",
       "    }\n",
       "\n",
       "    .dataframe tbody tr th {\n",
       "        vertical-align: top;\n",
       "    }\n",
       "</style>\n",
       "<table border=\"1\" class=\"dataframe\">\n",
       "  <thead>\n",
       "    <tr style=\"text-align: right;\">\n",
       "      <th></th>\n",
       "      <th>C</th>\n",
       "      <th>kernel</th>\n",
       "      <th>mean_accuracy</th>\n",
       "      <th>std</th>\n",
       "    </tr>\n",
       "  </thead>\n",
       "  <tbody>\n",
       "    <tr>\n",
       "      <th>0</th>\n",
       "      <td>0.25</td>\n",
       "      <td>rbf</td>\n",
       "      <td>0.83871</td>\n",
       "      <td>0.0</td>\n",
       "    </tr>\n",
       "    <tr>\n",
       "      <th>1</th>\n",
       "      <td>0.5</td>\n",
       "      <td>rbf</td>\n",
       "      <td>0.83871</td>\n",
       "      <td>0.0</td>\n",
       "    </tr>\n",
       "    <tr>\n",
       "      <th>2</th>\n",
       "      <td>1</td>\n",
       "      <td>rbf</td>\n",
       "      <td>0.83871</td>\n",
       "      <td>0.0</td>\n",
       "    </tr>\n",
       "    <tr>\n",
       "      <th>3</th>\n",
       "      <td>1.5</td>\n",
       "      <td>rbf</td>\n",
       "      <td>0.83871</td>\n",
       "      <td>0.0</td>\n",
       "    </tr>\n",
       "    <tr>\n",
       "      <th>4</th>\n",
       "      <td>2</td>\n",
       "      <td>rbf</td>\n",
       "      <td>0.83871</td>\n",
       "      <td>0.0</td>\n",
       "    </tr>\n",
       "    <tr>\n",
       "      <th>5</th>\n",
       "      <td>3</td>\n",
       "      <td>rbf</td>\n",
       "      <td>0.83871</td>\n",
       "      <td>0.0</td>\n",
       "    </tr>\n",
       "  </tbody>\n",
       "</table>\n",
       "</div>"
      ],
      "text/plain": [
       "      C kernel  mean_accuracy  std\n",
       "0  0.25    rbf        0.83871  0.0\n",
       "1   0.5    rbf        0.83871  0.0\n",
       "2     1    rbf        0.83871  0.0\n",
       "3   1.5    rbf        0.83871  0.0\n",
       "4     2    rbf        0.83871  0.0\n",
       "5     3    rbf        0.83871  0.0"
      ]
     },
     "execution_count": 104,
     "metadata": {},
     "output_type": "execute_result"
    }
   ],
   "source": [
    "# that wasn't so good, let's try using the outcome label\n",
    "pipe5 = Pipeline([\n",
    "    ('pca', None),\n",
    "    ('svm', SVC())\n",
    "])\n",
    "\n",
    "grid5 = {\n",
    "    'svm__C': [0.25, 0.5, 1, 1.5, 2, 3],\n",
    "    'svm__kernel': ['rbf'],\n",
    "}\n",
    "\n",
    "grid_cv5 = GridSearchCV(pipe5, grid5, cv=5)\n",
    "\n",
    "grid_cv5.fit(X_tr, y_tr)\n",
    "\n",
    "# Collect results and sort them\n",
    "df5 = pd.DataFrame.from_items([\n",
    "    ('C', grid_cv5.cv_results_['param_svm__C']),\n",
    "    ('kernel', grid_cv5.cv_results_['param_svm__kernel']),\n",
    "    ('mean_accuracy', grid_cv5.cv_results_['mean_test_score']),\n",
    "    ('std', grid_cv5.cv_results_['std_test_score'])\n",
    "])\n",
    "\n",
    "df5.sort_values(by='mean_accuracy', ascending=False).head(10)"
   ]
  },
  {
   "cell_type": "code",
   "execution_count": 105,
   "metadata": {},
   "outputs": [
    {
     "name": "stdout",
     "output_type": "stream",
     "text": [
      "Test Accuracy: 0.9230769230769231\n"
     ]
    }
   ],
   "source": [
    "print(\"Test Accuracy:\",grid_cv5.score(X_te, y_te))"
   ]
  },
  {
   "cell_type": "code",
   "execution_count": 106,
   "metadata": {},
   "outputs": [
    {
     "data": {
      "image/png": "[encoded data removed]",
      "text/plain": [
       "<matplotlib.figure.Figure at 0x164f1e72780>"
      ]
     },
     "metadata": {},
     "output_type": "display_data"
    }
   ],
   "source": [
    "test_score = grid_cv5.decision_function(X_te)\n",
    "\n",
    "fpr, tpr, _ = roc_curve(y_te, test_score, pos_label=1)\n",
    "roc_auc = auc(fpr, tpr)\n",
    "\n",
    "plt.figure()\n",
    "lw = 2\n",
    "plt.plot(fpr, tpr, color='darkorange',lw=lw, label='ROC curve (area = %0.2f)' % roc_auc)\n",
    "plt.plot([0, 1], [0, 1], color='navy', lw=lw, linestyle='--')\n",
    "plt.xlim([0.0, 1.0])\n",
    "plt.ylim([0.0, 1.05])\n",
    "plt.xlabel('False Positive Rate')\n",
    "plt.ylabel('True Positive Rate')\n",
    "plt.title('Receiver operating characteristic example')\n",
    "plt.legend(loc=\"lower right\")\n",
    "plt.show()"
   ]
  },
  {
   "cell_type": "markdown",
   "metadata": {},
   "source": [
    "### Linear Kernel"
   ]
  },
  {
   "cell_type": "code",
   "execution_count": 94,
   "metadata": {},
   "outputs": [
    {
     "data": {
      "text/html": [
       "<div>\n",
       "<style>\n",
       "    .dataframe thead tr:only-child th {\n",
       "        text-align: right;\n",
       "    }\n",
       "\n",
       "    .dataframe thead th {\n",
       "        text-align: left;\n",
       "    }\n",
       "\n",
       "    .dataframe tbody tr th {\n",
       "        vertical-align: top;\n",
       "    }\n",
       "</style>\n",
       "<table border=\"1\" class=\"dataframe\">\n",
       "  <thead>\n",
       "    <tr style=\"text-align: right;\">\n",
       "      <th></th>\n",
       "      <th>C</th>\n",
       "      <th>mean_accuracy</th>\n",
       "      <th>std</th>\n",
       "    </tr>\n",
       "  </thead>\n",
       "  <tbody>\n",
       "    <tr>\n",
       "      <th>0</th>\n",
       "      <td>0.25</td>\n",
       "      <td>0.845161</td>\n",
       "      <td>0.000999</td>\n",
       "    </tr>\n",
       "    <tr>\n",
       "      <th>4</th>\n",
       "      <td>2</td>\n",
       "      <td>0.845161</td>\n",
       "      <td>0.000999</td>\n",
       "    </tr>\n",
       "    <tr>\n",
       "      <th>1</th>\n",
       "      <td>0.5</td>\n",
       "      <td>0.838710</td>\n",
       "      <td>0.005411</td>\n",
       "    </tr>\n",
       "    <tr>\n",
       "      <th>5</th>\n",
       "      <td>3</td>\n",
       "      <td>0.838710</td>\n",
       "      <td>0.005411</td>\n",
       "    </tr>\n",
       "    <tr>\n",
       "      <th>3</th>\n",
       "      <td>1.5</td>\n",
       "      <td>0.832258</td>\n",
       "      <td>0.011821</td>\n",
       "    </tr>\n",
       "    <tr>\n",
       "      <th>2</th>\n",
       "      <td>1</td>\n",
       "      <td>0.825806</td>\n",
       "      <td>0.005328</td>\n",
       "    </tr>\n",
       "    <tr>\n",
       "      <th>6</th>\n",
       "      <td>5</td>\n",
       "      <td>0.690323</td>\n",
       "      <td>0.152844</td>\n",
       "    </tr>\n",
       "  </tbody>\n",
       "</table>\n",
       "</div>"
      ],
      "text/plain": [
       "      C  mean_accuracy       std\n",
       "0  0.25       0.845161  0.000999\n",
       "4     2       0.845161  0.000999\n",
       "1   0.5       0.838710  0.005411\n",
       "5     3       0.838710  0.005411\n",
       "3   1.5       0.832258  0.011821\n",
       "2     1       0.825806  0.005328\n",
       "6     5       0.690323  0.152844"
      ]
     },
     "execution_count": 94,
     "metadata": {},
     "output_type": "execute_result"
    }
   ],
   "source": [
    "pipe6 = Pipeline([\n",
    "    ('pca', None),\n",
    "    ('svm', LinearSVC())\n",
    "])\n",
    "\n",
    "grid6 = {\n",
    "    'svm__C': [0.25, 0.5, 1, 1.5, 2, 3, 5],\n",
    "}\n",
    "\n",
    "grid_cv6 = GridSearchCV(pipe6, grid6, cv=2)\n",
    "\n",
    "grid_cv6.fit(X_tr, y_tr)\n",
    "\n",
    "# Collect results and sort them\n",
    "df6 = pd.DataFrame.from_items([\n",
    "    ('C', grid_cv6.cv_results_['param_svm__C']),\n",
    "    ('mean_accuracy', grid_cv6.cv_results_['mean_test_score']),\n",
    "    ('std', grid_cv6.cv_results_['std_test_score'])\n",
    "])\n",
    "\n",
    "df6.sort_values(by='mean_accuracy', ascending=False).head(10)"
   ]
  },
  {
   "cell_type": "code",
   "execution_count": 95,
   "metadata": {},
   "outputs": [
    {
     "name": "stdout",
     "output_type": "stream",
     "text": [
      "Test Accuracy: 0.9487179487179487\n"
     ]
    }
   ],
   "source": [
    "print(\"Test Accuracy:\",grid_cv6.score(X_te, y_te))"
   ]
  },
  {
   "cell_type": "code",
   "execution_count": 96,
   "metadata": {},
   "outputs": [
    {
     "data": {
      "image/png": "[encoded data removed]",
      "text/plain": [
       "<matplotlib.figure.Figure at 0x164f53697f0>"
      ]
     },
     "metadata": {},
     "output_type": "display_data"
    }
   ],
   "source": [
    "test_score = grid_cv6.decision_function(X_te)\n",
    "\n",
    "fpr, tpr, _ = roc_curve(y_te, test_score, pos_label=1)\n",
    "roc_auc = auc(fpr, tpr)\n",
    "\n",
    "plt.figure()\n",
    "lw = 2\n",
    "plt.plot(fpr, tpr, color='darkorange',lw=lw, label='ROC curve (area = %0.2f)' % roc_auc)\n",
    "plt.plot([0, 1], [0, 1], color='navy', lw=lw, linestyle='--')\n",
    "plt.xlim([0.0, 1.0])\n",
    "plt.ylim([0.0, 1.05])\n",
    "plt.xlabel('False Positive Rate')\n",
    "plt.ylabel('True Positive Rate')\n",
    "plt.title('Receiver operating characteristic example')\n",
    "plt.legend(loc=\"lower right\")\n",
    "plt.show()"
   ]
  },
  {
   "cell_type": "code",
   "execution_count": null,
   "metadata": {
    "collapsed": true
   },
   "outputs": [],
   "source": []
  },
  {
   "cell_type": "code",
   "execution_count": null,
   "metadata": {
    "collapsed": true
   },
   "outputs": [],
   "source": []
  }
 ],
 "metadata": {
  "kernelspec": {
   "display_name": "Python 3",
   "language": "python",
   "name": "python3"
  },
  "language_info": {
   "codemirror_mode": {
    "name": "ipython",
    "version": 3
   },
   "file_extension": ".py",
   "mimetype": "text/x-python",
   "name": "python",
   "nbconvert_exporter": "python",
   "pygments_lexer": "ipython3",
   "version": "3.6.2"
  }
 },
 "nbformat": 4,
 "nbformat_minor": 2
}
