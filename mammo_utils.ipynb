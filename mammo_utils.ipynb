{
 "cells": [
  {
   "cell_type": "code",
   "execution_count": 16,
   "metadata": {
    "collapsed": true
   },
   "outputs": [],
   "source": [
    "import re\n",
    "import numpy as np\n",
    "import os\n",
    "from PIL import Image, ImageMath\n",
    "import shutil\n",
    "\n",
    "## import PGM files and return a numpy array\n",
    "def read_pgm(filename, byteorder='>'):\n",
    "    \"\"\"Return image data from a raw PGM file as numpy array.\n",
    "    Format specification: http://netpbm.sourceforge.net/doc/pgm.html\n",
    "    \"\"\"\n",
    "    with open(filename, 'rb') as f:\n",
    "        buffer = f.read()\n",
    "    try:\n",
    "        header, width, height, maxval = re.search(\n",
    "            b\"(^P5\\s(?:\\s*#.*[\\r\\n])*\"\n",
    "            b\"(\\d+)\\s(?:\\s*#.*[\\r\\n])*\"\n",
    "            b\"(\\d+)\\s(?:\\s*#.*[\\r\\n])*\"\n",
    "            b\"(\\d+)\\s(?:\\s*#.*[\\r\\n]\\s)*)\", buffer).groups()\n",
    "    except AttributeError:\n",
    "        raise ValueError(\"Not a raw PGM file: '%s'\" % filename)\n",
    "        \n",
    "    image = np.frombuffer(buffer,\n",
    "                            dtype='u1' if int(maxval) < 256 else byteorder+'u2',\n",
    "                            count=int(width)*int(height),\n",
    "                            offset=len(header)\n",
    "                            ).reshape((int(height), int(width)))\n",
    "    \n",
    "    image_id = int(re.findall('([\\d]+)\\.', filename)[0])\n",
    "    \n",
    "    if image_id % 2 != 0:\n",
    "        image = np.fliplr(image)\n",
    "        \n",
    "    return image"
   ]
  },
  {
   "cell_type": "code",
   "execution_count": 1,
   "metadata": {
    "collapsed": true
   },
   "outputs": [],
   "source": [
    "## flip every other image left to right so they are all oriented the same way\n",
    "def read_images(file):\n",
    "    # get the id of the images from the filename\n",
    "    image_id = int(re.findall('([\\d]+)\\.', file)[0])\n",
    "    print(image_id)\n",
    "    # read in the image\n",
    "    image = read_pgm(file)\n",
    "    \n",
    "    # if the ID is even flip the image\n",
    "    if image_id % 2 != 0:\n",
    "        image = np.fliplr(image)\n",
    "        #image = X_return[...,::-1,:]\n",
    "        \n",
    "    return image"
   ]
  },
  {
   "cell_type": "code",
   "execution_count": 2,
   "metadata": {
    "collapsed": true
   },
   "outputs": [],
   "source": [
    "## Extract a tar.gz file\n",
    "def extract_tar(fname, dest=\"./data/pgms\"):\n",
    "    mode = \"r:gz\" if (fname.endswith(\"tar.gz\")) else \"r:\"\n",
    "    tar = tarfile.open(fname, mode)\n",
    "    tar.extractall(path=dest)\n",
    "    tar.close()"
   ]
  },
  {
   "cell_type": "code",
   "execution_count": null,
   "metadata": {
    "collapsed": true
   },
   "outputs": [],
   "source": [
    "## Download files from a URL to a file in the data directory\n",
    "def download_file(url, name):\n",
    "    # check that the data directory exists\n",
    "    try:\n",
    "        os.stat(\"data\")\n",
    "    except:\n",
    "        os.mkdir(\"data\")  \n",
    "    fname = wget.download(url, os.path.join('data',name)) "
   ]
  },
  {
   "cell_type": "code",
   "execution_count": 13,
   "metadata": {
    "collapsed": true
   },
   "outputs": [],
   "source": [
    "## flatten a directory tree to a single directory\n",
    "def copy_subdirectories_to_directory(path, destination):\n",
    "    subdirectories = os.listdir(path)\n",
    "    for directory in subdirectories:\n",
    "        files = os.listdir(os.path.join(path, directory))\n",
    "        for file in files:\n",
    "            shutil.copy(os.path.join(path, directory, file), destination)"
   ]
  },
  {
   "cell_type": "code",
   "execution_count": null,
   "metadata": {
    "collapsed": true
   },
   "outputs": [],
   "source": [
    "## given a path to a directory containing images, open all files in the directory, convert the images to\n",
    "## a numpy array, and return the array containing all the images, with the labels\n",
    "def convert_images_to_array(path, label_data=None):\n",
    "    data = []\n",
    "    labels = []\n",
    "    files = os.listdir(path)\n",
    "    for file in files:\n",
    "        img_data = Image.open(path + '/' + file)\n",
    "        arr = np.array(img_data)\n",
    "        \n",
    "        if label_data is not None:\n",
    "            # catch errors if there is no label for the image\n",
    "            try:\n",
    "                label = label_data.loc[file].CLASS\n",
    "                labels.append(label)\n",
    "                # if we have labels only add the image if there is a label\n",
    "                data.append(arr)\n",
    "            except:\n",
    "                print(\"Error with\", file)\n",
    "                continue\n",
    "        else:\n",
    "            data.append(arr)\n",
    "            \n",
    "    return np.array(data), labels"
   ]
  },
  {
   "cell_type": "code",
   "execution_count": 17,
   "metadata": {
    "collapsed": true
   },
   "outputs": [],
   "source": [
    "## Open a png image, convert it to a JPG and save it\n",
    "def convert_png_to_jpg(path):\n",
    "    # open the image\n",
    "    im = Image.open(path)\n",
    "    im2 = ImageMath.eval('im/256', {'im':im}).convert('L')\n",
    "    \n",
    "    # create a new file name\n",
    "    path_array = path.split(\"\\\\\")\n",
    "    dir_path = \"\\\\\".join(path_array[:-1])\n",
    "    image_name = path_array[-1]\n",
    "    new_image_name = image_name.replace('.png','.jpg')\n",
    "    new_image_name\n",
    "    \n",
    "    \n",
    "    im2.convert('RGB').save(os.path.join(dir_path, new_image_name),\"JPEG\")"
   ]
  },
  {
   "cell_type": "code",
   "execution_count": null,
   "metadata": {
    "collapsed": true
   },
   "outputs": [],
   "source": [
    "## The scans from one particular scanner (DBA) have white sections cut out of them, possibly to hide personal information\n",
    "## this is only on the normal scans, so a convnet could use this information to identify the normal scans\n",
    "## to prevent this I will replace all white pixels with black, as there are no pure white pixels in a normal scan\n",
    "\n",
    "def remove_white_from_image(path, is_png=False):\n",
    "    # open the image\n",
    "    img = Image.open(path)\n",
    "    \n",
    "    if is_png:\n",
    "        # convert to rgb\n",
    "        img2 = ImageMath.eval('im/256', {'im':img}).convert('L')\n",
    "\n",
    "    # turn the image into an array\n",
    "    im_array = np.array(img2)\n",
    "    \n",
    "    # turn all white pixels to black\n",
    "    im_array[im_array == 255] = 0\n",
    "    \n",
    "    return im_array"
   ]
  },
  {
   "cell_type": "code",
   "execution_count": null,
   "metadata": {
    "collapsed": true
   },
   "outputs": [],
   "source": [
    "## Takes in a PIL image, resizes it to new_size square and returns the new images\n",
    "def resize_image(img, new_size):\n",
    "    img2 = img.resize((new_size, new_size), PIL.Image.ANTIALIAS)\n",
    "    return img2"
   ]
  }
 ],
 "metadata": {
  "kernelspec": {
   "display_name": "Python 3",
   "language": "python",
   "name": "python3"
  },
  "language_info": {
   "codemirror_mode": {
    "name": "ipython",
    "version": 3
   },
   "file_extension": ".py",
   "mimetype": "text/x-python",
   "name": "python",
   "nbconvert_exporter": "python",
   "pygments_lexer": "ipython3",
   "version": "3.6.2"
  }
 },
 "nbformat": 4,
 "nbformat_minor": 2
}
