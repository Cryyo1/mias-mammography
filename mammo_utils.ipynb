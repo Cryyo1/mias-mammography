{
 "cells": [
  {
   "cell_type": "code",
   "execution_count": 1,
   "metadata": {
    "collapsed": true
   },
   "outputs": [],
   "source": [
    "import re\n",
    "import numpy as np\n",
    "\n",
    "def read_pgm(filename, byteorder='>'):\n",
    "    \"\"\"Return image data from a raw PGM file as numpy array.\n",
    "    Format specification: http://netpbm.sourceforge.net/doc/pgm.html\n",
    "    \"\"\"\n",
    "    with open(filename, 'rb') as f:\n",
    "        buffer = f.read()\n",
    "    try:\n",
    "        header, width, height, maxval = re.search(\n",
    "            b\"(^P5\\s(?:\\s*#.*[\\r\\n])*\"\n",
    "            b\"(\\d+)\\s(?:\\s*#.*[\\r\\n])*\"\n",
    "            b\"(\\d+)\\s(?:\\s*#.*[\\r\\n])*\"\n",
    "            b\"(\\d+)\\s(?:\\s*#.*[\\r\\n]\\s)*)\", buffer).groups()\n",
    "    except AttributeError:\n",
    "        raise ValueError(\"Not a raw PGM file: '%s'\" % filename)\n",
    "        \n",
    "    image = np.frombuffer(buffer,\n",
    "                            dtype='u1' if int(maxval) < 256 else byteorder+'u2',\n",
    "                            count=int(width)*int(height),\n",
    "                            offset=len(header)\n",
    "                            ).reshape((int(height), int(width)))\n",
    "    \n",
    "    image_id = int(re.findall('([\\d]+)\\.', filename)[0])\n",
    "    \n",
    "    if image_id % 2 != 0:\n",
    "        image = np.fliplr(image)\n",
    "        \n",
    "    return image"
   ]
  },
  {
   "cell_type": "code",
   "execution_count": 1,
   "metadata": {
    "collapsed": true
   },
   "outputs": [],
   "source": [
    "# flip every other image left to right so they are all oriented the same way\n",
    "def read_images(file):\n",
    "    # get the id of the images from the filename\n",
    "    image_id = int(re.findall('([\\d]+)\\.', file)[0])\n",
    "    print(image_id)\n",
    "    # read in the image\n",
    "    image = read_pgm(file)\n",
    "    \n",
    "    # if the ID is even flip the image\n",
    "    if image_id % 2 != 0:\n",
    "        image = np.fliplr(image)\n",
    "        #image = X_return[...,::-1,:]\n",
    "        \n",
    "    return image"
   ]
  },
  {
   "cell_type": "code",
   "execution_count": 2,
   "metadata": {
    "collapsed": true
   },
   "outputs": [],
   "source": [
    "def extract_tar(fname, dest=\"./data/pgms\"):\n",
    "    mode = \"r:gz\" if (fname.endswith(\"tar.gz\")) else \"r:\"\n",
    "    tar = tarfile.open(fname, mode)\n",
    "    tar.extractall(path=dest)\n",
    "    tar.close()"
   ]
  },
  {
   "cell_type": "code",
   "execution_count": null,
   "metadata": {
    "collapsed": true
   },
   "outputs": [],
   "source": [
    "def download_file(url, name):\n",
    "    # check that the data directory exists\n",
    "    try:\n",
    "        os.stat(\"data\")\n",
    "    except:\n",
    "        os.mkdir(\"data\")  \n",
    "    fname = wget.download(url, os.path.join('data',name)) "
   ]
  }
 ],
 "metadata": {
  "kernelspec": {
   "display_name": "Python 3",
   "language": "python",
   "name": "python3"
  },
  "language_info": {
   "codemirror_mode": {
    "name": "ipython",
    "version": 3
   },
   "file_extension": ".py",
   "mimetype": "text/x-python",
   "name": "python",
   "nbconvert_exporter": "python",
   "pygments_lexer": "ipython3",
   "version": "3.6.2"
  }
 },
 "nbformat": 4,
 "nbformat_minor": 2
}
