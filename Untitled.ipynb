{
 "cells": [
  {
   "cell_type": "code",
   "execution_count": 1,
   "metadata": {
    "collapsed": false
   },
   "outputs": [
    {
     "name": "stderr",
     "output_type": "stream",
     "text": [
      "C:\\Users\\eric\\Anaconda2\\envs\\exts-aml2\\lib\\site-packages\\h5py\\__init__.py:36: FutureWarning: Conversion of the second argument of issubdtype from `float` to `np.floating` is deprecated. In future, it will be treated as `np.float64 == np.dtype(float).type`.\n",
      "  from ._conv import register_converters as _register_converters\n"
     ]
    }
   ],
   "source": [
    "from tensorboard import summary as summary_lib\n",
    "import tensorflow as tf\n",
    "import numpy as np"
   ]
  },
  {
   "cell_type": "code",
   "execution_count": 2,
   "metadata": {
    "collapsed": true
   },
   "outputs": [],
   "source": [
    "labels = tf.constant([False, True, True, False, True], dtype=tf.bool)\n",
    "predictions = tf.random_uniform(labels.get_shape(), maxval=1.0)\n",
    "_, update_op = summary_lib.pr_curve_streaming_op(name='foo',\n",
    "                                                 predictions=predictions,\n",
    "                                                 labels=labels,\n",
    "                                                 num_thresholds=11)\n",
    "merged_summary = tf.summary.merge_all()"
   ]
  },
  {
   "cell_type": "code",
   "execution_count": 5,
   "metadata": {
    "collapsed": true
   },
   "outputs": [],
   "source": [
    "with tf.Session() as sess:\n",
    "    writer = tf.summary.FileWriter('./logs', sess.graph)\n",
    "    sess.run(tf.local_variables_initializer())\n",
    "    for step in range(43):\n",
    "        sess.run([update_op])\n",
    "        #if step % 6 == 0:\n",
    "        writer.add_summary(sess.run(merged_summary), global_step=step)"
   ]
  },
  {
   "cell_type": "code",
   "execution_count": 1,
   "metadata": {
    "collapsed": true
   },
   "outputs": [],
   "source": [
    "import zipfile"
   ]
  },
  {
   "cell_type": "code",
   "execution_count": 6,
   "metadata": {
    "collapsed": false
   },
   "outputs": [
    {
     "data": {
      "text/plain": [
       "array([2, 0, 0, ..., 0, 0, 0], dtype=int64)"
      ]
     },
     "execution_count": 6,
     "metadata": {},
     "output_type": "execute_result"
    }
   ],
   "source": [
    "import numpy as np\n",
    "foo = np.load(\"data/test2_labels_0.npy\")\n",
    "foo"
   ]
  },
  {
   "cell_type": "code",
   "execution_count": 24,
   "metadata": {
    "collapsed": true
   },
   "outputs": [],
   "source": [
    "truth = np.random.binomial(1, 0.7, 500)\n",
    "predictions = np.random.binomial(1, 0.4, 500)"
   ]
  },
  {
   "cell_type": "code",
   "execution_count": 25,
   "metadata": {
    "collapsed": true
   },
   "outputs": [],
   "source": [
    "tp = np.sum(truth & predictions)\n",
    "fn = np.sum(~predictions & truth)"
   ]
  },
  {
   "cell_type": "code",
   "execution_count": 26,
   "metadata": {
    "collapsed": false
   },
   "outputs": [
    {
     "data": {
      "text/plain": [
       "0.39226519337016574"
      ]
     },
     "execution_count": 26,
     "metadata": {},
     "output_type": "execute_result"
    }
   ],
   "source": [
    "recall = tp / (tp + fn)\n",
    "recall"
   ]
  },
  {
   "cell_type": "code",
   "execution_count": 27,
   "metadata": {
    "collapsed": false
   },
   "outputs": [
    {
     "name": "stdout",
     "output_type": "stream",
     "text": [
      "0.4852941176470588\n",
      "0.3472222222222222\n",
      "0.34285714285714286\n",
      "0.4246575342465753\n",
      "0.3670886075949367\n",
      "Total Recall: 0.39342392491358713\n"
     ]
    }
   ],
   "source": [
    "acc_recall = []\n",
    "\n",
    "# break it into batches\n",
    "for i in range(5):\n",
    "    start_idx = i * 100\n",
    "    end_idx = start_idx + 100\n",
    "    \n",
    "    batch_tp = np.sum(truth[start_idx:end_idx] & predictions[start_idx:end_idx])\n",
    "    batch_fn = np.sum(~predictions[start_idx:end_idx] & truth[start_idx:end_idx])\n",
    "    \n",
    "    batch_recall = batch_tp / (batch_tp + batch_fn)\n",
    "    print(batch_recall)\n",
    "    acc_recall.append(batch_recall)\n",
    "    \n",
    "print(\"Total Recall:\", np.mean(acc_recall))"
   ]
  },
  {
   "cell_type": "code",
   "execution_count": 1,
   "metadata": {
    "collapsed": false
   },
   "outputs": [
    {
     "data": {
      "text/plain": [
       "2151.8500000000004"
      ]
     },
     "execution_count": 1,
     "metadata": {},
     "output_type": "execute_result"
    }
   ],
   "source": [
    "580 + 92 +225.25 +297.15 +957.45\n"
   ]
  }
 ],
 "metadata": {
  "kernelspec": {
   "display_name": "Python 2",
   "language": "python",
   "name": "python2"
  },
  "language_info": {
   "codemirror_mode": {
    "name": "ipython",
    "version": 2
   },
   "file_extension": ".py",
   "mimetype": "text/x-python",
   "name": "python",
   "nbconvert_exporter": "python",
   "pygments_lexer": "ipython2",
   "version": "2.7.13"
  }
 },
 "nbformat": 4,
 "nbformat_minor": 2
}
