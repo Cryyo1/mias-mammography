{
 "cells": [
  {
   "cell_type": "markdown",
   "metadata": {},
   "source": [
    "## Extract features from images using pre-trained models"
   ]
  },
  {
   "cell_type": "markdown",
   "metadata": {
    "collapsed": true
   },
   "source": [
    "The features were extracted using:\n",
    "https://github.com/escuccim/TF_FeatureExtraction\n",
    "\n",
    "Which was forked from:\n",
    "https://github.com/tomrunia/TF_FeatureExtraction\n",
    "\n",
    "And provides a wrapper to use pre-trained models in TensorFlow.\n",
    "\n",
    "In order to not spend too much time editing the scripts, I converted the hi-res images from PGM to JPEG myself.\n",
    "\n",
    "The features were extracted using the following pre-trained networks:\n",
    " - inception v4\n",
    " - resnet v2\n",
    " - vgg 19\n",
    " \n",
    "Using checkpoints downloaded from: https://github.com/tensorflow/models/tree/master/research/slim#pre-trained-models\n",
    " \n",
    "With the following commands:\n",
    "Inception:\n",
    " - python example_feat_extract.py  --network inception_v4 --checkpoint ./checkpoints/inception_v4.ckpt --image_path ../data/pgms/JPEG/ --out_file ./features.h5  --layer_names Logits\n",
    " \n",
    "ResNet:\n",
    " - python example_feat_extract.py  --network resnet_v2_152 --checkpoint ./checkpoints/resnet_v2_152.ckpt --image_path ../data/pgms/JPEG/ --out_file ./rn_features.h5  --layer_names resnet_v2_152/logits --preproc_func inception"
   ]
  }
 ],
 "metadata": {
  "kernelspec": {
   "display_name": "Python 3",
   "language": "python",
   "name": "python3"
  },
  "language_info": {
   "codemirror_mode": {
    "name": "ipython",
    "version": 3
   },
   "file_extension": ".py",
   "mimetype": "text/x-python",
   "name": "python",
   "nbconvert_exporter": "python",
   "pygments_lexer": "ipython3",
   "version": "3.6.2"
  }
 },
 "nbformat": 4,
 "nbformat_minor": 2
}
