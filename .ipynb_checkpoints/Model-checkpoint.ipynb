{
 "cells": [
  {
   "cell_type": "code",
   "execution_count": 54,
   "metadata": {
    "collapsed": true
   },
   "outputs": [],
   "source": [
    "import matplotlib.pyplot as plt\n",
    "import numpy as np\n",
    "import pandas as pd\n",
    "import h5py\n",
    "% matplotlib inline"
   ]
  },
  {
   "cell_type": "code",
   "execution_count": 55,
   "metadata": {},
   "outputs": [],
   "source": [
    "# import the data\n",
    "X = np.load('images.npy')\n",
    "labels = pd.read_pickle(\"labels.pkl\")"
   ]
  },
  {
   "cell_type": "code",
   "execution_count": 56,
   "metadata": {},
   "outputs": [],
   "source": [
    "# decide what we want to classify on, let's start with normal or abnormal\n",
    "y = labels.ABNORMAL.values"
   ]
  },
  {
   "cell_type": "code",
   "execution_count": 57,
   "metadata": {},
   "outputs": [],
   "source": [
    "# inception features\n",
    "with h5py.File('data/inc_features.h5') as features:\n",
    "    filenames = features['filenames'].value\n",
    "    inc_logits = features['Logits'].value"
   ]
  },
  {
   "cell_type": "code",
   "execution_count": 58,
   "metadata": {},
   "outputs": [
    {
     "data": {
      "text/plain": [
       "(322, 1001)"
      ]
     },
     "execution_count": 58,
     "metadata": {},
     "output_type": "execute_result"
    }
   ],
   "source": [
    "logits.shape"
   ]
  },
  {
   "cell_type": "code",
   "execution_count": 96,
   "metadata": {},
   "outputs": [],
   "source": [
    "# resnet features\n",
    "with h5py.File('data/rn_features.h5') as features:\n",
    "    filenames = features['filenames'].value\n",
    "    rn_logits = features['resnet_v2_152']['logits'].value"
   ]
  },
  {
   "cell_type": "code",
   "execution_count": 98,
   "metadata": {},
   "outputs": [
    {
     "data": {
      "text/plain": [
       "array([[[[-0.5585861 , -0.5370789 ,  0.45683515, ..., -0.5723165 ,\n",
       "          -1.2092593 ,  3.2732184 ]]],\n",
       "\n",
       "\n",
       "       [[[-0.02984267, -0.15596819, -0.12828773, ..., -0.34610042,\n",
       "          -1.5500736 ,  1.2641177 ]]],\n",
       "\n",
       "\n",
       "       [[[-0.3542295 , -0.77818865,  0.18172137, ...,  0.30547807,\n",
       "          -0.12337351,  1.2579657 ]]],\n",
       "\n",
       "\n",
       "       ...,\n",
       "\n",
       "\n",
       "       [[[-0.06162381, -0.778377  ,  0.8990305 , ..., -0.65472025,\n",
       "          -0.72379816,  1.1217401 ]]],\n",
       "\n",
       "\n",
       "       [[[-0.3800575 , -1.211866  , -0.14323986, ..., -1.1019471 ,\n",
       "          -1.3897259 ,  2.7287    ]]],\n",
       "\n",
       "\n",
       "       [[[-0.6168048 , -0.59326404,  0.8291512 , ..., -0.7030797 ,\n",
       "          -0.41720283,  2.2240043 ]]]], dtype=float32)"
      ]
     },
     "execution_count": 98,
     "metadata": {},
     "output_type": "execute_result"
    }
   ],
   "source": [
    "logits"
   ]
  }
 ],
 "metadata": {
  "kernelspec": {
   "display_name": "Python 3",
   "language": "python",
   "name": "python3"
  },
  "language_info": {
   "codemirror_mode": {
    "name": "ipython",
    "version": 3
   },
   "file_extension": ".py",
   "mimetype": "text/x-python",
   "name": "python",
   "nbconvert_exporter": "python",
   "pygments_lexer": "ipython3",
   "version": "3.6.2"
  }
 },
 "nbformat": 4,
 "nbformat_minor": 2
}
