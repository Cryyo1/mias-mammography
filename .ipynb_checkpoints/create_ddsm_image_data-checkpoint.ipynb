{
 "cells": [
  {
   "cell_type": "code",
   "execution_count": 1,
   "metadata": {
    "collapsed": true
   },
   "outputs": [],
   "source": [
    "from PIL import Image\n",
    "import numpy as np\n",
    "import pandas as pd\n",
    "import os\n",
    "from mammo_utils import convert_images_to_array"
   ]
  },
  {
   "cell_type": "code",
   "execution_count": 45,
   "metadata": {},
   "outputs": [],
   "source": [
    "# read in the label data\n",
    "labels_tr = pd.read_pickle(os.path.join(\"data\",\"train_labels.pkl\"))\n",
    "# reset the index, drop duplicate rows, and then reset the index\n",
    "labels_tr = labels_tr.reset_index().drop_duplicates(subset='IMAGE_NAME', keep='first', inplace=False)\n",
    "labels_tr = labels_tr.set_index(\"IMAGE_NAME\")\n",
    "\n",
    "labels_te = pd.read_pickle(os.path.join(\"data\",\"test_labels.pkl\"))\n",
    "# reset the index, drop duplicate rows, and then reset the index\n",
    "labels_te = labels_te.reset_index().drop_duplicates(subset='IMAGE_NAME', keep='first', inplace=False)\n",
    "labels_te = labels_te.set_index(\"IMAGE_NAME\")\n"
   ]
  },
  {
   "cell_type": "code",
   "execution_count": 46,
   "metadata": {},
   "outputs": [],
   "source": [
    "# convert the images to an array\n",
    "train_images, train_labels = convert_images_to_array(\"data/new/Mass Train/AllJPEGS299\", label_data=labels_tr)\n",
    "\n",
    "# discard the last two channels since the images are grayscale and all channels are identical\n",
    "train_images = train_images[:,:,:,0].reshape(-1,299,299,1)\n",
    "\n",
    "# save the files\n",
    "np.save(os.path.join(\"data\", \"train_images299.npy\"), train_images)\n",
    "np.save(os.path.join(\"data\", \"train_labels.npy\"), train_labels)"
   ]
  },
  {
   "cell_type": "code",
   "execution_count": 51,
   "metadata": {},
   "outputs": [
    {
     "data": {
      "text/plain": [
       "1231"
      ]
     },
     "execution_count": 51,
     "metadata": {},
     "output_type": "execute_result"
    }
   ],
   "source": [
    "len(train_labels)"
   ]
  },
  {
   "cell_type": "code",
   "execution_count": 52,
   "metadata": {
    "collapsed": true
   },
   "outputs": [],
   "source": [
    "# convert the images to arrays\n",
    "test_images, test_labels = convert_images_to_array(\"data/new/Mass Test/AllJPEGS299\", label_data=labels_te)\n",
    "\n",
    "# discard the last two channels since the images are grayscale and all channels are identical\n",
    "test_images = test_images[:,:,:,0].reshape(-1,299,299,1)\n",
    "\n",
    "# save the file\n",
    "np.save(os.path.join(\"data\", \"test_images299.npy\"), test_images)\n",
    "np.save(os.path.join(\"data\", \"test_labels.npy\"), test_labels)"
   ]
  }
 ],
 "metadata": {
  "kernelspec": {
   "display_name": "Python 3",
   "language": "python",
   "name": "python3"
  },
  "language_info": {
   "codemirror_mode": {
    "name": "ipython",
    "version": 3
   },
   "file_extension": ".py",
   "mimetype": "text/x-python",
   "name": "python",
   "nbconvert_exporter": "python",
   "pygments_lexer": "ipython3",
   "version": "3.6.2"
  }
 },
 "nbformat": 4,
 "nbformat_minor": 2
}
