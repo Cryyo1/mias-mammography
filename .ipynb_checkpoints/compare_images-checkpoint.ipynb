{
 "cells": [
  {
   "cell_type": "code",
   "execution_count": 5,
   "metadata": {
    "collapsed": true
   },
   "outputs": [],
   "source": [
    "import numpy as np\n",
    "import matplotlib.pyplot as plt\n",
    "import PIL\n",
    "import os\n",
    "import random\n",
    "from scipy.misc import imresize\n",
    "%matplotlib inline"
   ]
  },
  {
   "cell_type": "code",
   "execution_count": 6,
   "metadata": {
    "collapsed": true
   },
   "outputs": [],
   "source": [
    "def load_image(image, mask=None, margin=0.15, base_path= \"C:\\\\Users\\\\eric\\\\Documents\\\\Courses\\\\Applied ML 2\\\\mammography\\\\data\\\\cbis-ddsm\\\\\"):\n",
    "    image_path = os.path.join(base_path, image)\n",
    "    image = PIL.Image.open(image_path)\n",
    "    image = np.array(image)\n",
    "\n",
    "    # try to lose the extra channels, if there is an error they don't exist\n",
    "    try:\n",
    "        image = image[:,:,0]\n",
    "    except:\n",
    "        pass\n",
    "\n",
    "    if mask is not None:\n",
    "        mask_path = base_path + mask\n",
    "        mask = PIL.Image.open(mask_path)\n",
    "        mask = np.array(mask)\n",
    "        mask = mask[:,:,0]\n",
    "        mask = imresize(mask, (h // 2, w // 2))\n",
    "    \n",
    "    h = image.shape[0]\n",
    "    w = image.shape[1]\n",
    "    \n",
    "    image = imresize(image, (h // 2, w // 2))\n",
    "    \n",
    "    # trim margin off each side\n",
    "    h_border = int(h * margin)\n",
    "    w_border = int(w * margin)\n",
    "\n",
    "    image = image[h_border:(h-h_border),w_border:(w-w_border)]\n",
    "    \n",
    "    return image, mask\n"
   ]
  },
  {
   "cell_type": "code",
   "execution_count": 7,
   "metadata": {},
   "outputs": [
    {
     "ename": "NameError",
     "evalue": "name 'imresize' is not defined",
     "output_type": "error",
     "traceback": [
      "\u001b[1;31m---------------------------------------------------------------------------\u001b[0m",
      "\u001b[1;31mNameError\u001b[0m                                 Traceback (most recent call last)",
      "\u001b[1;32m<ipython-input-7-930115a0b3e2>\u001b[0m in \u001b[0;36m<module>\u001b[1;34m()\u001b[0m\n\u001b[1;32m----> 1\u001b[1;33m \u001b[0mdba_image\u001b[0m \u001b[1;33m=\u001b[0m \u001b[0mload_image\u001b[0m\u001b[1;33m(\u001b[0m\u001b[1;34m\"A_0498_1.RIGHT_CC.LJPEG.png\"\u001b[0m\u001b[1;33m,\u001b[0m \u001b[0mbase_path\u001b[0m \u001b[1;33m=\u001b[0m \u001b[1;34m\"E:\\\\Documents\\\\Mammography\\\\DDSM\\\\PNGs\\\\DBA pngs\"\u001b[0m\u001b[1;33m)\u001b[0m\u001b[1;33m\u001b[0m\u001b[0m\n\u001b[0m",
      "\u001b[1;32m<ipython-input-6-e8bb9b9fa2a4>\u001b[0m in \u001b[0;36mload_image\u001b[1;34m(image, mask, margin, base_path)\u001b[0m\n\u001b[0;32m     20\u001b[0m     \u001b[0mw\u001b[0m \u001b[1;33m=\u001b[0m \u001b[0mimage\u001b[0m\u001b[1;33m.\u001b[0m\u001b[0mshape\u001b[0m\u001b[1;33m[\u001b[0m\u001b[1;36m1\u001b[0m\u001b[1;33m]\u001b[0m\u001b[1;33m\u001b[0m\u001b[0m\n\u001b[0;32m     21\u001b[0m \u001b[1;33m\u001b[0m\u001b[0m\n\u001b[1;32m---> 22\u001b[1;33m     \u001b[0mimage\u001b[0m \u001b[1;33m=\u001b[0m \u001b[0mimresize\u001b[0m\u001b[1;33m(\u001b[0m\u001b[0mimage\u001b[0m\u001b[1;33m,\u001b[0m \u001b[1;33m(\u001b[0m\u001b[0mh\u001b[0m \u001b[1;33m//\u001b[0m \u001b[1;36m2\u001b[0m\u001b[1;33m,\u001b[0m \u001b[0mw\u001b[0m \u001b[1;33m//\u001b[0m \u001b[1;36m2\u001b[0m\u001b[1;33m)\u001b[0m\u001b[1;33m)\u001b[0m\u001b[1;33m\u001b[0m\u001b[0m\n\u001b[0m\u001b[0;32m     23\u001b[0m \u001b[1;33m\u001b[0m\u001b[0m\n\u001b[0;32m     24\u001b[0m     \u001b[1;31m# trim margin off each side\u001b[0m\u001b[1;33m\u001b[0m\u001b[1;33m\u001b[0m\u001b[0m\n",
      "\u001b[1;31mNameError\u001b[0m: name 'imresize' is not defined"
     ]
    }
   ],
   "source": [
    "dba_image = load_image(\"A_0498_1.RIGHT_CC.LJPEG.png\", base_path = \"E:\\\\Documents\\\\Mammography\\\\DDSM\\\\PNGs\\\\DBA pngs\")"
   ]
  },
  {
   "cell_type": "code",
   "execution_count": null,
   "metadata": {
    "collapsed": true
   },
   "outputs": [],
   "source": []
  }
 ],
 "metadata": {
  "kernelspec": {
   "display_name": "Python 3",
   "language": "python",
   "name": "python3"
  },
  "language_info": {
   "codemirror_mode": {
    "name": "ipython",
    "version": 3
   },
   "file_extension": ".py",
   "mimetype": "text/x-python",
   "name": "python",
   "nbconvert_exporter": "python",
   "pygments_lexer": "ipython3",
   "version": "3.6.2"
  }
 },
 "nbformat": 4,
 "nbformat_minor": 2
}
