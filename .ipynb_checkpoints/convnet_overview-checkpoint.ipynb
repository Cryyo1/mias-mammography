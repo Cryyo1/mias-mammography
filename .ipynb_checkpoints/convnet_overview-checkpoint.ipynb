{
 "cells": [
  {
   "cell_type": "markdown",
   "metadata": {},
   "source": [
    "Once the image data was processed and in a usable form I began to attempt to construct a ConvNet to predict whether a mammogram contained an abnormality or not. I quickly realized that my laptop was unable to handle the computation required so have been training the models on Google Cloud instances with GPUs. The data files were uploaded to an Amazon S3 bucket.\n",
    "\n",
    "I started with a simple convnet with alternating convolutional and max pooling layers. I then went through an iterative process of making changes and evaluating those changes. Even training with GPUs each version of the models required about a full day to train through 50 epochs so the process was slow. Because of the time required I did not want the training to be tied to a browser session so trained the models using Python scripts and logged the metrics to TensorBoard.\n",
    "\n",
    "I incorporated some features from Inception and VGG. The Inception v3 and Inception v4 papers were especially useful.\n",
    "\n",
    "For the sake of simplicity I used binary classification for each image - normal or abnormal - with the plan of expanding the number of classes once decent performance was achieved.\n",
    "\n",
    "\n",
    "\n"
   ]
  }
 ],
 "metadata": {
  "kernelspec": {
   "display_name": "Python 3",
   "language": "python",
   "name": "python3"
  },
  "language_info": {
   "codemirror_mode": {
    "name": "ipython",
    "version": 3
   },
   "file_extension": ".py",
   "mimetype": "text/x-python",
   "name": "python",
   "nbconvert_exporter": "python",
   "pygments_lexer": "ipython3",
   "version": "3.6.2"
  }
 },
 "nbformat": 4,
 "nbformat_minor": 2
}
