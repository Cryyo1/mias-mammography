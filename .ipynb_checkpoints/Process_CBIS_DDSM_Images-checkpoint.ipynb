{
 "cells": [
  {
   "cell_type": "code",
   "execution_count": 1,
   "metadata": {
    "collapsed": true
   },
   "outputs": [],
   "source": [
    "import numpy as np\n",
    "import pandas as pd\n",
    "import os\n",
    "import re\n",
    "import shutil"
   ]
  },
  {
   "cell_type": "code",
   "execution_count": 26,
   "metadata": {
    "collapsed": true
   },
   "outputs": [],
   "source": [
    "## rename the files to include the patient id so we can match the image up with the labels\n",
    "## also copy the images to a single directory so we have them all in one place\n",
    "def rename_and_copy_files(path, sourcedir=\"JPEG512\", destdir=\"AllJPEGS512\"):\n",
    "    directories = os.listdir(path+sourcedir)\n",
    "    source_path = path + sourcedir + \"/\"\n",
    "    destination_path = path + destdir + \"/\"\n",
    "    \n",
    "    # keep a counter so each file has a unique name\n",
    "    i = 1\n",
    "    \n",
    "    # loop through the directories\n",
    "    for directory in directories:\n",
    "        # get the patient number and image type from the directory name\n",
    "        patient_id = str(re.findall(\"_(P_[\\d]+)_\", directory))\n",
    "        if len(patient_id) > 0:\n",
    "            patient_id = patient_id[0]\n",
    "        else:\n",
    "            continue\n",
    "            \n",
    "        image_side = str(re.findall(\"_(LEFT|RIGHT)_\", directory))\n",
    "        \n",
    "        if len(image_side) > 0:\n",
    "            image_side = image_side[0]\n",
    "        else:\n",
    "            continue\n",
    "        \n",
    "        image_type = str(re.findall(\"(CC|MLO)\", directory))\n",
    "        if len(image_type) > 0:\n",
    "            image_type = image_type[0]\n",
    "        else:\n",
    "            continue\n",
    "        \n",
    "        if not patient_id:\n",
    "            continue\n",
    "            \n",
    "        # get the subdirectories\n",
    "        subdir = os.listdir(source_path+directory)\n",
    "\n",
    "        # get the next level of subdirectories\n",
    "        subsubdir = os.listdir(source_path+directory+'/'+subdir[0])\n",
    "\n",
    "        # get the files \n",
    "        files = os.listdir(source_path+directory+'/'+subdir[0]+'/'+subsubdir[0])\n",
    "        path = source_path+directory+'/'+subdir[0]+'/'+subsubdir[0]\n",
    "\n",
    "        for file in files:\n",
    "            # rename the file so we know where it came from\n",
    "            # some of the data is not properly labeled, if that is the case skip it since we won't be able to label it\n",
    "            try:\n",
    "                new_name = path+'/'+patient_id+'_'+image_side+'_'+image_type+'.jpg'\n",
    "                os.rename(path+'/'+file, new_name)\n",
    "            except:\n",
    "                continue\n",
    "                \n",
    "            # make sure the destination directory exists\n",
    "            try:\n",
    "                os.stat(destination_path)\n",
    "            except:\n",
    "                os.mkdir(destination_path)  \n",
    "            \n",
    "            # copy the files so they are all in one directory\n",
    "            shutil.copy(new_name, destination_path)\n",
    "\n",
    "        i += 1"
   ]
  },
  {
   "cell_type": "code",
   "execution_count": 7,
   "metadata": {
    "collapsed": true
   },
   "outputs": [],
   "source": [
    "rename_and_copy_files(\"data/new/Mass Test/\", sourcedir=\"JPEG299\", destdir=\"AllJPEGS299\")\n",
    "rename_and_copy_files(\"data/new/Mass Train/\", sourcedir=\"JPEG299\", destdir=\"AllJPEGS299\")"
   ]
  },
  {
   "cell_type": "code",
   "execution_count": 60,
   "metadata": {
    "collapsed": true
   },
   "outputs": [],
   "source": [
    "rename_and_copy_files(\"data/new/Mass Test/\", sourcedir=\"JPEG512\", destdir=\"AllJPEGS512\")\n",
    "rename_and_copy_files(\"data/new/Mass Train/\", sourcedir=\"JPEG512\", destdir=\"AllJPEGS512\")"
   ]
  },
  {
   "cell_type": "code",
   "execution_count": 27,
   "metadata": {
    "collapsed": true
   },
   "outputs": [],
   "source": [
    "rename_and_copy_files(\"data/new/Calc Test/\", sourcedir=\"JPEG299\", destdir=\"AllJPEGS299\")\n",
    "rename_and_copy_files(\"data/new/Calc Train/\", sourcedir=\"JPEG299\", destdir=\"AllJPEGS299\")"
   ]
  },
  {
   "cell_type": "code",
   "execution_count": 2,
   "metadata": {},
   "outputs": [
    {
     "name": "stderr",
     "output_type": "stream",
     "text": [
      "C:\\Users\\eric\\Anaconda2\\envs\\exts-aml2\\lib\\site-packages\\ipykernel_launcher.py:24: SettingWithCopyWarning: \n",
      "A value is trying to be set on a copy of a slice from a DataFrame\n",
      "\n",
      "See the caveats in the documentation: http://pandas.pydata.org/pandas-docs/stable/indexing.html#indexing-view-versus-copy\n",
      "C:\\Users\\eric\\Anaconda2\\envs\\exts-aml2\\lib\\site-packages\\ipykernel_launcher.py:30: SettingWithCopyWarning: \n",
      "A value is trying to be set on a copy of a slice from a DataFrame\n",
      "\n",
      "See the caveats in the documentation: http://pandas.pydata.org/pandas-docs/stable/indexing.html#indexing-view-versus-copy\n"
     ]
    }
   ],
   "source": [
    "# create labels for images\n",
    "mass_test_data = pd.read_csv(os.path.join(\"data\", \"new\", \"mass_case_description_test_set.csv\"))\n",
    "mass_test_data['image_name'] = mass_test_data.patient_id + '_' + mass_test_data['left or right breast'] + '_' + mass_test_data['image view'] + '.jpg'\n",
    "mass_test_data.drop([\"image file path\",\"cropped image file path\",\"ROI mask file path\"], axis=1, inplace=True)\n",
    "mass_test_data.columns = [\"PATIENT_ID\",\"BREAST_DENSITY\",\"SIDE\",\"VIEW\",\"ABNORMALITY_ID\",\"ABNORMALITY_TYPE\",\"MASS_SHAPE\",\"MASS_MARGINS\",\"ASSESSMENT\",\"PATHOLOGY\", \"SUBLETY\",\"IMAGE_NAME\"]\n",
    "\n",
    "mass_train_data = pd.read_csv(os.path.join(\"data\", \"new\", \"mass_case_description_train_set.csv\"))\n",
    "mass_train_data['image_name'] = mass_train_data.patient_id + '_' + mass_train_data['left or right breast'] + '_' + mass_train_data['image view'] + '.jpg'\n",
    "mass_train_data.drop([\"image file path\",\"cropped image file path\",\"ROI mask file path\"], axis=1, inplace=True)\n",
    "mass_train_data.columns = [\"PATIENT_ID\",\"BREAST_DENSITY\",\"SIDE\",\"VIEW\",\"ABNORMALITY_ID\",\"ABNORMALITY_TYPE\",\"MASS_SHAPE\",\"MASS_MARGINS\",\"ASSESSMENT\",\"PATHOLOGY\", \"SUBLETY\",\"IMAGE_NAME\"]\n",
    "\n",
    "calc_test_data = pd.read_csv(os.path.join(\"data\", \"new\", \"calc_case_description_test_set.csv\"))\n",
    "calc_test_data['image_name'] = calc_test_data.patient_id + '_' + calc_test_data['image view'] + '_' + calc_test_data['left or right breast'] + '.jpg'\n",
    "calc_test_data.drop([\"image file path\",\"cropped image file path\",\"ROI mask file path\"], axis=1, inplace=True)\n",
    "calc_test_data.columns = [\"PATIENT_ID\",\"BREAST_DENSITY\",\"SIDE\",\"VIEW\",\"ABNORMALITY_ID\",\"ABNORMALITY_TYPE\",\"MASS_SHAPE\",\"MASS_MARGINS\",\"ASSESSMENT\",\"PATHOLOGY\", \"SUBLETY\",\"IMAGE_NAME\"]\n",
    "\n",
    "calc_train_data = pd.read_csv(os.path.join(\"data\", \"new\", \"calc_case_description_train_set.csv\"))\n",
    "calc_train_data['image_name'] = calc_train_data.patient_id + '_' + calc_train_data['image view'] + '_' + calc_train_data['left or right breast'] + '.jpg'\n",
    "calc_train_data.drop([\"image file path\",\"cropped image file path\",\"ROI mask file path\"], axis=1, inplace=True)\n",
    "calc_train_data.columns = [\"PATIENT_ID\",\"BREAST_DENSITY\",\"SIDE\",\"VIEW\",\"ABNORMALITY_ID\",\"ABNORMALITY_TYPE\",\"MASS_SHAPE\",\"MASS_MARGINS\",\"ASSESSMENT\",\"PATHOLOGY\", \"SUBLETY\",\"IMAGE_NAME\"]\n",
    "\n",
    "train_labels = pd.concat([mass_train_data, calc_train_data], axis=0)\n",
    "# replace BENIGN_WITHOUT_CALLBACK with BENIGN for easier classification\n",
    "train_labels['PATHOLOGY'][train_labels['PATHOLOGY'] == 'BENIGN_WITHOUT_CALLBACK'] = 'BENIGN'\n",
    "\n",
    "train_labels['CLASS'] = train_labels['PATHOLOGY'] + '_' + train_labels['ABNORMALITY_TYPE']\n",
    "\n",
    "test_labels = pd.concat([mass_test_data, calc_test_data], axis=0)\n",
    "# replace BENIGN_WITHOUT_CALLBACK with BENIGN for easier classification\n",
    "test_labels['PATHOLOGY'][test_labels['PATHOLOGY'] == 'BENIGN_WITHOUT_CALLBACK'] = 'BENIGN'\n",
    "test_labels['CLASS'] = test_labels['PATHOLOGY'] + '_' + test_labels['ABNORMALITY_TYPE']\n",
    "\n",
    "# set the image name to be the index\n",
    "train_labels.set_index(\"IMAGE_NAME\", inplace=True)\n",
    "test_labels.set_index(\"IMAGE_NAME\", inplace=True)\n",
    "\n",
    "# save the data\n",
    "train_labels.to_pickle(os.path.join(\"data\",\"train_labels.pkl\"))\n",
    "test_labels.to_pickle(os.path.join(\"data\",\"test_labels.pkl\"))"
   ]
  }
 ],
 "metadata": {
  "kernelspec": {
   "display_name": "Python 3",
   "language": "python",
   "name": "python3"
  },
  "language_info": {
   "codemirror_mode": {
    "name": "ipython",
    "version": 3
   },
   "file_extension": ".py",
   "mimetype": "text/x-python",
   "name": "python",
   "nbconvert_exporter": "python",
   "pygments_lexer": "ipython3",
   "version": "3.6.2"
  }
 },
 "nbformat": 4,
 "nbformat_minor": 2
}
