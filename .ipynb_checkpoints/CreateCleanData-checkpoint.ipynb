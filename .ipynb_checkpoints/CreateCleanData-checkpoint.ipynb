{
 "cells": [
  {
   "cell_type": "code",
   "execution_count": 87,
   "metadata": {
    "collapsed": true
   },
   "outputs": [],
   "source": [
    "import numpy as np\n",
    "import re\n",
    "from glob import glob\n",
    "import pandas as pd\n",
    "import pickle"
   ]
  },
  {
   "cell_type": "code",
   "execution_count": 3,
   "metadata": {
    "collapsed": true
   },
   "outputs": [],
   "source": [
    "def read_pgm(filename, byteorder='>'):\n",
    "    \"\"\"Return image data from a raw PGM file as numpy array.\n",
    "    Format specification: http://netpbm.sourceforge.net/doc/pgm.html\n",
    "    \"\"\"\n",
    "    with open(filename, 'rb') as f:\n",
    "        buffer = f.read()\n",
    "    try:\n",
    "        header, width, height, maxval = re.search(\n",
    "            b\"(^P5\\s(?:\\s*#.*[\\r\\n])*\"\n",
    "            b\"(\\d+)\\s(?:\\s*#.*[\\r\\n])*\"\n",
    "            b\"(\\d+)\\s(?:\\s*#.*[\\r\\n])*\"\n",
    "            b\"(\\d+)\\s(?:\\s*#.*[\\r\\n]\\s)*)\", buffer).groups()\n",
    "    except AttributeError:\n",
    "        raise ValueError(\"Not a raw PGM file: '%s'\" % filename)\n",
    "    return np.frombuffer(buffer,\n",
    "                            dtype='u1' if int(maxval) < 256 else byteorder+'u2',\n",
    "                            count=int(width)*int(height),\n",
    "                            offset=len(header)\n",
    "                            ).reshape((int(height), int(width)))"
   ]
  },
  {
   "cell_type": "code",
   "execution_count": 4,
   "metadata": {
    "collapsed": true
   },
   "outputs": [],
   "source": [
    "# read all pgms in\n",
    "files = glob('data/pgms/*.pgm')\n",
    "data = []\n",
    "\n",
    "for file in files:\n",
    "    # read each file in and convert it to a float\n",
    "    data.append(read_pgm(file) * 1.0)\n",
    "\n",
    "images = np.array(data, dtype=np.float32)"
   ]
  },
  {
   "cell_type": "code",
   "execution_count": 5,
   "metadata": {
    "collapsed": true
   },
   "outputs": [],
   "source": [
    "# save the images to an npy file so they don't need to be read in individually in the future\n",
    "np.save('./images.npy', images)"
   ]
  },
  {
   "cell_type": "code",
   "execution_count": null,
   "metadata": {
    "collapsed": true
   },
   "outputs": [],
   "source": []
  },
  {
   "cell_type": "code",
   "execution_count": 56,
   "metadata": {
    "collapsed": true
   },
   "outputs": [],
   "source": [
    "## Label Data"
   ]
  },
  {
   "cell_type": "code",
   "execution_count": 102,
   "metadata": {
    "collapsed": true
   },
   "outputs": [],
   "source": [
    "# import and clean the annotation data\n",
    "all_cases_df = pd.read_table('data/Info.txt', delimiter=' ')\n",
    "all_cases_df = all_cases_df[all_cases_df.columns[:-1]] # drop last column\n",
    "all_cases_df['path'] = all_cases_df['REFNUM'].map(lambda x: '%s.pgm' % x)"
   ]
  },
  {
   "cell_type": "code",
   "execution_count": 103,
   "metadata": {
    "collapsed": true
   },
   "outputs": [],
   "source": [
    "# Let's drop the duplicate rows\n",
    "all_cases_df.drop_duplicates(subset=['REFNUM'], keep='first', inplace=True)\n",
    "\n",
    "# reindex it\n",
    "all_cases_df.reset_index(inplace=True, drop=True)\n",
    "\n",
    "# add another column to indicate whether the scan is normal or not, disregarding the specific type of abnormality\n",
    "all_cases_df['ABNORMAL'] = (all_cases_df['CLASS'] != 'NORM') * 1.0\n",
    "\n",
    "# add one more column to indicate whether the abnormality is benign or malignant, malignant is 1, benign is 0, no abnormality is -1\n",
    "all_cases_df['TYPE'] = -1\n",
    "mal_idx = all_cases_df['SEVERITY'] == 'M'\n",
    "all_cases_df.loc[mal_idx,'TYPE'] = 1\n",
    "ben_idx = all_cases_df['SEVERITY'] == 'B'\n",
    "all_cases_df.loc[ben_idx,'TYPE'] = 0"
   ]
  },
  {
   "cell_type": "code",
   "execution_count": 104,
   "metadata": {},
   "outputs": [],
   "source": [
    "from sklearn.preprocessing import LabelEncoder\n",
    "\n",
    "# encode the classes\n",
    "class_le = LabelEncoder()\n",
    "class_le.fit(all_cases_df.CLASS)\n",
    "class_vec = class_le.transform(all_cases_df.CLASS)\n",
    "\n",
    "# save the class names to a vector and add the encoded classes to the df\n",
    "class_names = class_le.classes_\n",
    "all_cases_df['CLASS_Y'] = class_vec\n",
    "\n",
    "# one hot encode the backgrounds\n",
    "all_cases_df = pd.get_dummies(all_cases_df, columns=['BG'])"
   ]
  },
  {
   "cell_type": "code",
   "execution_count": 105,
   "metadata": {
    "collapsed": true
   },
   "outputs": [],
   "source": [
    "# save the cleaned data\n",
    "all_cases_df.to_pickle(\"all_cases_df.pkl\")\n",
    "\n",
    "np.save(\"labels.npy\", class_names)\n",
    "\n",
    "# clean up the annotations to remove unneeded columns\n",
    "labels = all_cases_df.copy()\n",
    "labels.drop(['CLASS','SEVERITY','path'], axis=1, inplace=True)\n",
    "\n",
    "# fill radius with 0\n",
    "labels['RADIUS'].fillna(0, inplace=True)\n",
    "labels.to_pickle(\"labels.pkl\")"
   ]
  },
  {
   "cell_type": "code",
   "execution_count": null,
   "metadata": {
    "collapsed": true
   },
   "outputs": [],
   "source": []
  }
 ],
 "metadata": {
  "kernelspec": {
   "display_name": "Python 3",
   "language": "python",
   "name": "python3"
  },
  "language_info": {
   "codemirror_mode": {
    "name": "ipython",
    "version": 3
   },
   "file_extension": ".py",
   "mimetype": "text/x-python",
   "name": "python",
   "nbconvert_exporter": "python",
   "pygments_lexer": "ipython3",
   "version": "3.6.2"
  }
 },
 "nbformat": 4,
 "nbformat_minor": 2
}
