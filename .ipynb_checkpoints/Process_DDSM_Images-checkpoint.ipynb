{
 "cells": [
  {
   "cell_type": "code",
   "execution_count": 21,
   "metadata": {
    "collapsed": true
   },
   "outputs": [],
   "source": [
    "import numpy as np\n",
    "import pandas as pd\n",
    "import matplotlib.pyplot as plt\n",
    "from PIL import Image\n",
    "import mammo_utils\n",
    "import os"
   ]
  },
  {
   "cell_type": "code",
   "execution_count": null,
   "metadata": {},
   "outputs": [],
   "source": [
    "## read in the 299x299 JPEGs, convert them to numpy array, remove white pixels, add the labels and save\n",
    "## all the ddsm images are normal, so there is no need to process the labels. \n",
    "\n",
    "# turn the images into an array\n",
    "images_array = mammo_utils.convert_images_to_array(\"C:\\\\Users\\\\eric\\\\Documents\\\\Courses\\\\Applied ML 2\\\\mammography\\\\data\\\\new\\\\DDSM\\\\Lumisys JPEG299\")[0]\n",
    "\n",
    "# remove white pixels\n",
    "images_array[images_array == 255] = 0\n",
    "\n",
    "# save the data\n",
    "np.save(os.path.join(\"data\", \"lumisys_images.npy\"), images_array)\n",
    "\n",
    "# create the labels\n",
    "lumisys_labels = np.repeat(\"NORMAL\", images_array.shape[0])\n",
    "\n",
    "# save the labels\n",
    "np.save(os.path.join(\"data\",\"lumisys_labels.npy\"), lumisys_labels)"
   ]
  },
  {
   "cell_type": "code",
   "execution_count": null,
   "metadata": {
    "collapsed": true
   },
   "outputs": [],
   "source": []
  }
 ],
 "metadata": {
  "kernelspec": {
   "display_name": "Python 3",
   "language": "python",
   "name": "python3"
  },
  "language_info": {
   "codemirror_mode": {
    "name": "ipython",
    "version": 3
   },
   "file_extension": ".py",
   "mimetype": "text/x-python",
   "name": "python",
   "nbconvert_exporter": "python",
   "pygments_lexer": "ipython3",
   "version": "3.6.2"
  }
 },
 "nbformat": 4,
 "nbformat_minor": 2
}
