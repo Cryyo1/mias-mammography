{
 "cells": [
  {
   "cell_type": "code",
   "execution_count": 1,
   "metadata": {
    "collapsed": true
   },
   "outputs": [],
   "source": [
    "import numpy as np\n",
    "import pandas as pd\n",
    "import os\n",
    "import re\n",
    "import shutil"
   ]
  },
  {
   "cell_type": "code",
   "execution_count": 58,
   "metadata": {
    "collapsed": true
   },
   "outputs": [],
   "source": [
    "## rename the files to include the patient id so we can match the image up with the labels\n",
    "## also copy the images to a single directory so we have them all in one place\n",
    "\n",
    "def rename_and_copy_files(path, sourcedir=\"JPEG512\", destdir=\"AllJPEGS\"):\n",
    "    directories = os.listdir(path+sourcedir)\n",
    "    source_path = path + sourcedir + \"/\"\n",
    "    destination_path = path + destdir + \"/\"\n",
    "    \n",
    "    # keep a counter so each file has a unique name\n",
    "    i = 1\n",
    "    \n",
    "    # loop through the directories\n",
    "    for directory in directories:\n",
    "        # get the patient number and image type from the directory name\n",
    "        patient_id = str(re.findall(\"_(P_[\\d]+)_\", directory)[0])\n",
    "        image_side = str(re.findall(\"_(LEFT|RIGHT)_\", directory)[0])\n",
    "        image_type = str(re.findall(\"(CC|MLO)\", directory)[0])\n",
    "        \n",
    "        if not patient_id:\n",
    "            continue\n",
    "            \n",
    "        # get the subdirectories\n",
    "        subdir = os.listdir(source_path+directory)\n",
    "\n",
    "        # get the next level of subdirectories\n",
    "        subsubdir = os.listdir(source_path+directory+'/'+subdir[0])\n",
    "\n",
    "        # get the files \n",
    "        files = os.listdir(source_path+directory+'/'+subdir[0]+'/'+subsubdir[0])\n",
    "        path = source_path+directory+'/'+subdir[0]+'/'+subsubdir[0]\n",
    "\n",
    "        for file in files:\n",
    "            # rename the file so we know where it came from\n",
    "            #new_name = path+'/'+patient_id+'_'+image_type+'_'+image_side+'_'+str(i)+'.jpg'\n",
    "            new_name = path+'/'+patient_id+'_'+image_type+'_'+image_side+'.jpg'\n",
    "            os.rename(path+'/'+file, new_name)\n",
    "\n",
    "            # make sure the destination directory exists\n",
    "            try:\n",
    "                os.stat(destination_path)\n",
    "            except:\n",
    "                os.mkdir(destination_path)  \n",
    "            \n",
    "            # copy the files so they are all in one directory\n",
    "            shutil.copy(new_name, destination_path)\n",
    "\n",
    "        i += 1"
   ]
  },
  {
   "cell_type": "code",
   "execution_count": 59,
   "metadata": {},
   "outputs": [],
   "source": [
    "rename_and_copy_files(\"data/new/Mass Test/\")\n",
    "rename_and_copy_files(\"data/new/Mass Train/\")"
   ]
  },
  {
   "cell_type": "code",
   "execution_count": 60,
   "metadata": {},
   "outputs": [],
   "source": []
  },
  {
   "cell_type": "code",
   "execution_count": 101,
   "metadata": {},
   "outputs": [],
   "source": [
    "# create labels for images\n",
    "mass_test_data = pd.read_csv(os.path.join(\"data\", \"new\", \"mass_case_description_test_set.csv\"))\n",
    "mass_test_data['image_name'] = mass_test_data.patient_id + '_' + mass_test_data['image view'] + '_' + mass_test_data['left or right breast'] + '.jpg'\n",
    "mass_test_data.drop([\"image file path\",\"cropped image file path\",\"ROI mask file path\"], axis=1, inplace=True)\n",
    "mass_test_data.columns = [\"PATIENT_ID\",\"BREAST_DENSITY\",\"SIDE\",\"VIEW\",\"ABNORMALITY_ID\",\"ABNORMALITY_TYPE\",\"MASS_SHAPE\",\"MASS_MARGINS\",\"ASSESSMENT\",\"PATHOLOGY\", \"SUBLETY\",\"IMAGE_NAME\"]\n",
    "mass_test_data['CLASS'] = mass_test_data['PATHOLOGY'] + '_' + mass_test_data['ABNORMALITY_TYPE']\n",
    "\n",
    "mass_train_data = pd.read_csv(os.path.join(\"data\", \"new\", \"mass_case_description_train_set.csv\"))\n",
    "mass_train_data['image_name'] = mass_train_data.patient_id + '_' + mass_train_data['image view'] + '_' + mass_train_data['left or right breast'] + '.jpg'\n",
    "mass_train_data.drop([\"image file path\",\"cropped image file path\",\"ROI mask file path\"], axis=1, inplace=True)\n",
    "mass_train_data.columns = [\"PATIENT_ID\",\"BREAST_DENSITY\",\"SIDE\",\"VIEW\",\"ABNORMALITY_ID\",\"ABNORMALITY_TYPE\",\"MASS_SHAPE\",\"MASS_MARGINS\",\"ASSESSMENT\",\"PATHOLOGY\", \"SUBLETY\",\"IMAGE_NAME\"]\n",
    "mass_train_data['CLASS'] = mass_train_data['PATHOLOGY'] + '_' + mass_train_data['ABNORMALITY_TYPE']\n",
    "\n",
    "calc_test_data = pd.read_csv(os.path.join(\"data\", \"new\", \"calc_case_description_test_set.csv\"))\n",
    "calc_test_data['image_name'] = calc_test_data.patient_id + '_' + calc_test_data['image view'] + '_' + calc_test_data['left or right breast'] + '.jpg'\n",
    "calc_test_data.drop([\"image file path\",\"cropped image file path\",\"ROI mask file path\"], axis=1, inplace=True)\n",
    "calc_test_data.columns = [\"PATIENT_ID\",\"BREAST_DENSITY\",\"SIDE\",\"VIEW\",\"ABNORMALITY_ID\",\"ABNORMALITY_TYPE\",\"MASS_SHAPE\",\"MASS_MARGINS\",\"ASSESSMENT\",\"PATHOLOGY\", \"SUBLETY\",\"IMAGE_NAME\"]\n",
    "calc_test_data['CLASS'] = calc_test_data['PATHOLOGY'] + '_' + calc_test_data['ABNORMALITY_TYPE']\n",
    "\n",
    "calc_train_data = pd.read_csv(os.path.join(\"data\", \"new\", \"calc_case_description_train_set.csv\"))\n",
    "calc_train_data['image_name'] = calc_train_data.patient_id + '_' + calc_train_data['image view'] + '_' + calc_train_data['left or right breast'] + '.jpg'\n",
    "calc_train_data.drop([\"image file path\",\"cropped image file path\",\"ROI mask file path\"], axis=1, inplace=True)\n",
    "calc_train_data.columns = [\"PATIENT_ID\",\"BREAST_DENSITY\",\"SIDE\",\"VIEW\",\"ABNORMALITY_ID\",\"ABNORMALITY_TYPE\",\"MASS_SHAPE\",\"MASS_MARGINS\",\"ASSESSMENT\",\"PATHOLOGY\", \"SUBLETY\",\"IMAGE_NAME\"]\n",
    "calc_train_data['CLASS'] = calc_train_data['PATHOLOGY'] + '_' + calc_train_data['ABNORMALITY_TYPE']\n",
    "\n",
    "train_labels = pd.concat([mass_train_data, calc_train_data], axis=0)\n",
    "test_labels = pd.concat([mass_test_data, calc_test_data], axis=0)\n",
    "\n",
    "# set the image name to be the index\n",
    "train_labels.set_index(\"IMAGE_NAME\", inplace=True)\n",
    "test_labels.set_index(\"IMAGE_NAME\", inplace=True)\n",
    "\n",
    "# save the data\n",
    "train_labels.to_pickle(os.path.join(\"data\",\"train_labels.pkl\"))\n",
    "test_labels.to_pickle(os.path.join(\"data\",\"test_labels.pkl\"))"
   ]
  },
  {
   "cell_type": "code",
   "execution_count": 102,
   "metadata": {},
   "outputs": [
    {
     "data": {
      "text/plain": [
       "PATIENT_ID                 P_01888\n",
       "BREAST_DENSITY                   2\n",
       "SIDE                         RIGHT\n",
       "VIEW                           MLO\n",
       "ABNORMALITY_ID                   1\n",
       "ABNORMALITY_TYPE              mass\n",
       "MASS_SHAPE               IRREGULAR\n",
       "MASS_MARGINS            SPICULATED\n",
       "ASSESSMENT                       5\n",
       "PATHOLOGY                MALIGNANT\n",
       "SUBLETY                          5\n",
       "CLASS               MALIGNANT_mass\n",
       "Name: P_01888_MLO_RIGHT.jpg, dtype: object"
      ]
     },
     "execution_count": 102,
     "metadata": {},
     "output_type": "execute_result"
    }
   ],
   "source": [
    "train_labels.loc['P_01888_MLO_RIGHT.jpg']"
   ]
  },
  {
   "cell_type": "code",
   "execution_count": 106,
   "metadata": {},
   "outputs": [
    {
     "name": "stdout",
     "output_type": "stream",
     "text": [
      "Test labels: (704, 12)\n",
      "Train labels: (2864, 12)\n"
     ]
    }
   ],
   "source": [
    "print(\"Test labels:\",test_labels.shape)\n",
    "print(\"Train labels:\",train_labels.shape)"
   ]
  }
 ],
 "metadata": {
  "kernelspec": {
   "display_name": "Python 3",
   "language": "python",
   "name": "python3"
  },
  "language_info": {
   "codemirror_mode": {
    "name": "ipython",
    "version": 3
   },
   "file_extension": ".py",
   "mimetype": "text/x-python",
   "name": "python",
   "nbconvert_exporter": "python",
   "pygments_lexer": "ipython3",
   "version": "3.6.2"
  }
 },
 "nbformat": 4,
 "nbformat_minor": 2
}
