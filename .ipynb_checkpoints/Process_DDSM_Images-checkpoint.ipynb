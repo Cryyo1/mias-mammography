{
 "cells": [
  {
   "cell_type": "code",
   "execution_count": 54,
   "metadata": {
    "collapsed": true
   },
   "outputs": [],
   "source": [
    "import numpy as np\n",
    "import pandas as pd\n",
    "import os\n",
    "import re\n",
    "import shutil"
   ]
  },
  {
   "cell_type": "code",
   "execution_count": 83,
   "metadata": {},
   "outputs": [],
   "source": [
    "## rename the files to include the patient id so we can match the image up with the labels\n",
    "## also copy the images to a single directory so we have them all in one place\n",
    "\n",
    "def rename_and_copy_files(path):\n",
    "    directories = os.listdir(path)\n",
    "    \n",
    "    # keep a counter so each file has a unique name\n",
    "    i = 1\n",
    "    \n",
    "    # loop through the directories\n",
    "    for directory in directories:\n",
    "        # get the patient number and image type from the directory name\n",
    "        patient_id = str(re.findall(\"_P_([\\d]+)_\", directory)[0])\n",
    "        image_type = str(re.findall(\"(CC|MLO)\", directory)[0])\n",
    "        \n",
    "        if not patient_id:\n",
    "            continue\n",
    "            \n",
    "        # get the subdirectories\n",
    "        subdir = os.listdir(\"data/new/Test/JPEG512/\"+directory)\n",
    "\n",
    "        # get the next level of subdirectories\n",
    "        subsubdir = os.listdir(\"data/new/Test/JPEG512/\"+directory+'/'+subdir[0])\n",
    "\n",
    "        # get the files \n",
    "        files = os.listdir(\"data/new/Test/JPEG512/\"+directory+'/'+subdir[0]+'/'+subsubdir[0])\n",
    "        path = \"data/new/Test/JPEG512/\"+directory+'/'+subdir[0]+'/'+subsubdir[0]\n",
    "\n",
    "        for file in files:\n",
    "            # rename the file so we know where it came from\n",
    "            new_name = path+'/SCAN_'+patient_id+'_'+image_type+str(i)+'.jpg'\n",
    "            os.rename(path+'/'+file, new_name)\n",
    "\n",
    "            # copy the files so they are all in one directory\n",
    "            shutil.copy(new_name, \"data/new/Test/AllJPEGS/\")\n",
    "\n",
    "        i += 1"
   ]
  },
  {
   "cell_type": "code",
   "execution_count": 84,
   "metadata": {},
   "outputs": [],
   "source": [
    "rename_and_copy_files(\"data/new/Test/JPEG512\")"
   ]
  },
  {
   "cell_type": "code",
   "execution_count": null,
   "metadata": {
    "collapsed": true
   },
   "outputs": [],
   "source": []
  }
 ],
 "metadata": {
  "kernelspec": {
   "display_name": "Python 3",
   "language": "python",
   "name": "python3"
  },
  "language_info": {
   "codemirror_mode": {
    "name": "ipython",
    "version": 3
   },
   "file_extension": ".py",
   "mimetype": "text/x-python",
   "name": "python",
   "nbconvert_exporter": "python",
   "pygments_lexer": "ipython3",
   "version": "3.6.2"
  }
 },
 "nbformat": 4,
 "nbformat_minor": 2
}
