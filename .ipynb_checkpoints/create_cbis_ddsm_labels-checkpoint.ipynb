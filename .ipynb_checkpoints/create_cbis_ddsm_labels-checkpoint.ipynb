{
 "cells": [
  {
   "cell_type": "code",
   "execution_count": null,
   "metadata": {
    "collapsed": true
   },
   "outputs": [],
   "source": [
    "import numpy as np\n",
    "import pandas as pd\n",
    "import os\n",
    "import re\n",
    "import shutil"
   ]
  },
  {
   "cell_type": "code",
   "execution_count": null,
   "metadata": {
    "collapsed": true
   },
   "outputs": [],
   "source": [
    "# create labels for images\n",
    "mass_test_data = pd.read_csv(os.path.join(\"data\", \"new\", \"mass_case_description_test_set.csv\"))\n",
    "mass_test_data['image_name'] = mass_test_data.patient_id + '_' + mass_test_data['left or right breast'] + '_' + mass_test_data['image view'] + '.jpg'\n",
    "mass_test_data.drop([\"image file path\",\"cropped image file path\",\"ROI mask file path\"], axis=1, inplace=True)\n",
    "mass_test_data.columns = [\"PATIENT_ID\",\"BREAST_DENSITY\",\"SIDE\",\"VIEW\",\"ABNORMALITY_ID\",\"ABNORMALITY_TYPE\",\"MASS_SHAPE\",\"MASS_MARGINS\",\"ASSESSMENT\",\"PATHOLOGY\", \"SUBLETY\",\"IMAGE_NAME\"]\n",
    "\n",
    "mass_train_data = pd.read_csv(os.path.join(\"data\", \"new\", \"mass_case_description_train_set.csv\"))\n",
    "mass_train_data['image_name'] = mass_train_data.patient_id + '_' + mass_train_data['left or right breast'] + '_' + mass_train_data['image view'] + '.jpg'\n",
    "mass_train_data.drop([\"image file path\",\"cropped image file path\",\"ROI mask file path\"], axis=1, inplace=True)\n",
    "mass_train_data.columns = [\"PATIENT_ID\",\"BREAST_DENSITY\",\"SIDE\",\"VIEW\",\"ABNORMALITY_ID\",\"ABNORMALITY_TYPE\",\"MASS_SHAPE\",\"MASS_MARGINS\",\"ASSESSMENT\",\"PATHOLOGY\", \"SUBLETY\",\"IMAGE_NAME\"]\n",
    "\n",
    "calc_test_data = pd.read_csv(os.path.join(\"data\", \"new\", \"calc_case_description_test_set.csv\"))\n",
    "calc_test_data['image_name'] = calc_test_data.patient_id +  '_' + calc_test_data['left or right breast'] + '_' + calc_test_data['image view'] +'.jpg'\n",
    "calc_test_data.drop([\"image file path\",\"cropped image file path\",\"ROI mask file path\"], axis=1, inplace=True)\n",
    "calc_test_data.columns = [\"PATIENT_ID\",\"BREAST_DENSITY\",\"SIDE\",\"VIEW\",\"ABNORMALITY_ID\",\"ABNORMALITY_TYPE\",\"MASS_SHAPE\",\"MASS_MARGINS\",\"ASSESSMENT\",\"PATHOLOGY\", \"SUBLETY\",\"IMAGE_NAME\"]\n",
    "\n",
    "calc_train_data = pd.read_csv(os.path.join(\"data\", \"new\", \"calc_case_description_train_set.csv\"))\n",
    "calc_train_data['image_name'] = calc_train_data.patient_id+ '_' + calc_train_data['left or right breast'] + '_' + calc_train_data['image view']  + '.jpg'\n",
    "calc_train_data.drop([\"image file path\",\"cropped image file path\",\"ROI mask file path\"], axis=1, inplace=True)\n",
    "calc_train_data.columns = [\"PATIENT_ID\",\"BREAST_DENSITY\",\"SIDE\",\"VIEW\",\"ABNORMALITY_ID\",\"ABNORMALITY_TYPE\",\"MASS_SHAPE\",\"MASS_MARGINS\",\"ASSESSMENT\",\"PATHOLOGY\", \"SUBLETY\",\"IMAGE_NAME\"]\n",
    "\n",
    "train_labels = pd.concat([mass_train_data, calc_train_data], axis=0)\n",
    "# replace BENIGN_WITHOUT_CALLBACK with BENIGN for easier classification\n",
    "train_labels['PATHOLOGY'][train_labels['PATHOLOGY'] == 'BENIGN_WITHOUT_CALLBACK'] = 'BENIGN'\n",
    "\n",
    "train_labels['CLASS'] = train_labels['PATHOLOGY'] + '_' + train_labels['ABNORMALITY_TYPE']\n",
    "\n",
    "test_labels = pd.concat([mass_test_data, calc_test_data], axis=0)\n",
    "# replace BENIGN_WITHOUT_CALLBACK with BENIGN for easier classification\n",
    "test_labels['PATHOLOGY'][test_labels['PATHOLOGY'] == 'BENIGN_WITHOUT_CALLBACK'] = 'BENIGN'\n",
    "test_labels['CLASS'] = test_labels['PATHOLOGY'] + '_' + test_labels['ABNORMALITY_TYPE']\n",
    "\n",
    "# set the image name to be the index\n",
    "train_labels.set_index(\"IMAGE_NAME\", inplace=True)\n",
    "test_labels.set_index(\"IMAGE_NAME\", inplace=True)\n",
    "\n",
    "test_labels.head()\n",
    "# save the data\n",
    "train_labels.to_pickle(os.path.join(\"data\",\"train_labels.pkl\"))\n",
    "#test_labels.to_pickle(os.path.join(\"data\",\"test_labels.pkl\"))"
   ]
  }
 ],
 "metadata": {
  "kernelspec": {
   "display_name": "Python 3",
   "language": "python",
   "name": "python3"
  },
  "language_info": {
   "codemirror_mode": {
    "name": "ipython",
    "version": 3
   },
   "file_extension": ".py",
   "mimetype": "text/x-python",
   "name": "python",
   "nbconvert_exporter": "python",
   "pygments_lexer": "ipython3",
   "version": "3.6.2"
  }
 },
 "nbformat": 4,
 "nbformat_minor": 2
}
