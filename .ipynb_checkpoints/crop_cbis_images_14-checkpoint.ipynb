{
 "cells": [
  {
   "cell_type": "markdown",
   "metadata": {},
   "source": [
    "Save full images as jpgs with 3 channels:\n",
    " 1. actual image\n",
    " 2. mask\n",
    " 3. zeros, just here so images can be saved as jpegs\n",
    " \n",
    "Images are a minimum of 1280 pixels wide, a portion of the black background is trimmed to keep the images mostly usable. The height is unaltered. No zooming is done to the images at all.\n",
    "\n",
    "These images will be read off of disk and randomly cropped in TensorFlow to provide more training data in files of reasonable sizes."
   ]
  },
  {
   "cell_type": "code",
   "execution_count": 82,
   "metadata": {
    "collapsed": true
   },
   "outputs": [],
   "source": [
    "import PIL\n",
    "import numpy as np\n",
    "import pandas as pd\n",
    "import matplotlib.pyplot as plt\n",
    "import math\n",
    "import os\n",
    "import random\n",
    "import glob\n",
    "import shutil\n",
    "import re\n",
    "from scipy.misc import imresize, toimage\n",
    "from mammo_utils import create_mask, half_image, get_fuzzy_offset, progress, clean_name, random_flip_image\n",
    "%matplotlib inline"
   ]
  },
  {
   "cell_type": "code",
   "execution_count": 144,
   "metadata": {},
   "outputs": [],
   "source": [
    "def create_cbis_slices(mask_dir,image_dir,  name, debug=True):\n",
    "    # initialize return variables\n",
    "    image_list = []\n",
    "    pixel_means_list = []\n",
    "    \n",
    "    # get list of files in the directory\n",
    "    image_files = os.listdir(image_dir)\n",
    "    counter = 0\n",
    "    \n",
    "    # display the progress bar\n",
    "    if debug is None:\n",
    "        progress(counter, len(image_files), 'WORKING')\n",
    "       \n",
    "    # make sure the destination directory exists\n",
    "    if not os.path.exists(os.path.join(\"data\", name)):\n",
    "        os.mkdir(os.path.join(\"data\", name))\n",
    "    \n",
    "    # loop through the masks\n",
    "    for cur_image in image_files:\n",
    "        \n",
    "        # update the progress bar\n",
    "        counter += 1\n",
    "        if debug is None:\n",
    "            progress(counter, len(image_files), cur_image)\n",
    "            \n",
    "        # get the image name\n",
    "        base_image_file = clean_name(cur_image)\n",
    "        \n",
    "        full_image = PIL.Image.open(os.path.join(image_dir, cur_image))\n",
    "        full_image_arr = np.array(full_image)[:,:,0]\n",
    "        \n",
    "        # find which masks match, there may be more than one\n",
    "        matching_masks = glob.glob(os.path.join(mask_dir, base_image_file + \"*\" + \".jpg\"))\n",
    "        \n",
    "        # create a blank mask same size as image\n",
    "        mask_image = np.zeros_like(full_image_arr)\n",
    "        \n",
    "        # loop through the masks\n",
    "        for mask in matching_masks:\n",
    "            # load the mask\n",
    "            cur_mask = np.array(PIL.Image.open(os.path.join(mask_dir, mask)))[:,:,0]\n",
    "            \n",
    "            # if the mask is the right shape\n",
    "            if mask_image.shape == cur_mask.shape:\n",
    "                # update our global mask accordingly\n",
    "                mask_image[cur_mask > 0] = 1\n",
    "        \n",
    "        # try to remove some of the black background from the image\n",
    "        mostly_black_cols = np.sum(full_image_arr < 10, axis=0)\n",
    "        image_mostly_black = mostly_black_cols > (full_image_arr.shape[0] * 0.90)\n",
    "        \n",
    "        # determine which way the image is oriented\n",
    "        first_black_col = np.argmax(image_mostly_black)\n",
    "        \n",
    "        # if there are a substantial number of mostly black columns then we will try to trim them\n",
    "        if np.sum(image_mostly_black) > (full_image_arr.shape[1] * 0.15):\n",
    "            # if the first black col is not at the beginning we trim from the right\n",
    "            if first_black_col > 500:\n",
    "                # add some padding\n",
    "                first_black_col += 300\n",
    "                \n",
    "                # make sure the image is at least 1280 pixels wide\n",
    "                first_black_col = np.max([first_black_col, 1280])\n",
    "                \n",
    "                # include up to the first black col\n",
    "                full_image_arr = full_image_arr[:,:first_black_col]\n",
    "                mask_image = mask_image[:,:first_black_col]\n",
    "\n",
    "            # else we need to reverse the array and trim from the left\n",
    "            else:\n",
    "                first_black_col = len(image_mostly_black) - np.argmax(np.flip(image_mostly_black, axis=0))\n",
    "\n",
    "                # add some padding\n",
    "                first_black_col -= 300\n",
    "                \n",
    "                # make sure the image is at least 1280 pixels wide\n",
    "                first_black_col = np.min([first_black_col, full_image_arr.shape[1] - 1280])\n",
    "                \n",
    "                # trim from the right\n",
    "                full_image_arr = full_image_arr[:,first_black_col:]\n",
    "                mask_image = mask_image[:,first_black_col:]\n",
    "            \n",
    "        # set white pixels to 1 instead of 255\n",
    "#         mask_image[mask_image > 0] = 1\n",
    "        \n",
    "        # alert if image is way too small\n",
    "        if full_image_arr.shape[1] < 1000:\n",
    "            print(\"Image too small!\", cur_image)\n",
    "            print(mask, full_image_arr.shape)\n",
    "        \n",
    "        # make sure the mask and image are the same size\n",
    "        if full_image_arr.shape != mask_image.shape:\n",
    "            print(\"Shapes don't match\", cur_image)\n",
    "            continue\n",
    "        else:\n",
    "            # add the mean of the mask to the mean list\n",
    "            pixel_means_list.append(np.mean(mask_image))\n",
    "            \n",
    "            # save the image\n",
    "            image = np.dstack((full_image_arr, mask_image, np.zeros_like(full_image_arr))).astype(np.uint8)\n",
    "            \n",
    "            im = PIL.Image.fromarray(image)\n",
    "            im.save(os.path.join(\"data\", name, base_image_file + \"_\" + str(counter) + \".png\"))\n",
    "            \n",
    "#         if counter > 10:\n",
    "#             break\n",
    "        \n",
    "    # return the data\n",
    "    return pixel_means_list"
   ]
  },
  {
   "cell_type": "code",
   "execution_count": 145,
   "metadata": {
    "collapsed": true
   },
   "outputs": [],
   "source": [
    "def plot_random_samples(images, N=20):\n",
    "    idxs = random.sample(range(len(images)), k=N)\n",
    "\n",
    "    for idx in idxs:\n",
    "        f, ax = plt.subplots(1, 2, figsize=(8, 4))\n",
    "        ax[0].imshow(images[idx][:,:,0])\n",
    "        ax[0].set_title(\"Image\")\n",
    "        ax[1].imshow(images[idx][:,:,1])\n",
    "        ax[1].set_title(\"Label\")\n",
    "        plt.show()"
   ]
  },
  {
   "cell_type": "markdown",
   "metadata": {},
   "source": [
    "## Calc Test"
   ]
  },
  {
   "cell_type": "code",
   "execution_count": 149,
   "metadata": {},
   "outputs": [
    {
     "name": "stdout",
     "output_type": "stream",
     "text": [
      "[============================================================] 100.0% ...P_02501_RIGHT_MLO000000.jpg\r"
     ]
    }
   ],
   "source": [
    "# load the labels\n",
    "test_labels = pd.read_pickle(os.path.join(\"data\", \"test_labels.pkl\"))\n",
    "test_labels['IMAGE_NAME2'] = test_labels.index\n",
    "test_labels = test_labels.drop_duplicates(['IMAGE_NAME2'])\n",
    "\n",
    "## use a copy on the local drive to make testing faster\n",
    "mask_dir = \"C:\\\\Users\\\\eric\\\\Documents\\\\Courses\\\\Applied ML 2\\\\mammography\\\\data\\\\cbis-ddsm\\\\Calc Test All Mask JPEGs\"\n",
    "image_dir = \"C:\\\\Users\\\\eric\\\\Documents\\\\Courses\\\\Applied ML 2\\\\mammography\\\\data\\\\cbis-ddsm\\\\Calc Test All Full JPEGs\"\n",
    "\n",
    "mu = create_cbis_slices(mask_dir, image_dir, name=\"calc_test\", debug=None)"
   ]
  },
  {
   "cell_type": "code",
   "execution_count": 150,
   "metadata": {},
   "outputs": [
    {
     "data": {
      "image/png": "[encoded data removed]",
      "text/plain": [
       "<matplotlib.figure.Figure at 0x1910256d358>"
      ]
     },
     "metadata": {},
     "output_type": "display_data"
    },
    {
     "data": {
      "image/png": "[encoded data removed]",
      "text/plain": [
       "<matplotlib.figure.Figure at 0x191027ca400>"
      ]
     },
     "metadata": {},
     "output_type": "display_data"
    },
    {
     "data": {
      "image/png": "[encoded data removed]",
      "text/plain": [
       "<matplotlib.figure.Figure at 0x1910098b550>"
      ]
     },
     "metadata": {},
     "output_type": "display_data"
    }
   ],
   "source": [
    "full_image_arr = PIL.Image.open(\"C:\\\\Users\\\\eric\\\\Documents\\\\Courses\\\\Applied ML 2\\\\mammography\\\\data\\\\calc_test\\\\P_00038_RIGHT_MLO_4.png\")\n",
    "full_image_arr = np.array(full_image_arr)\n",
    "\n",
    "plt.imshow(full_image_arr[:,:,0])\n",
    "plt.show()\n",
    "\n",
    "plt.imshow(full_image_arr[:,:,1])\n",
    "plt.show()\n",
    "\n",
    "plt.imshow(full_image_arr[:,:,2])\n",
    "plt.show()"
   ]
  },
  {
   "cell_type": "code",
   "execution_count": 148,
   "metadata": {},
   "outputs": [
    {
     "data": {
      "text/plain": [
       "255"
      ]
     },
     "execution_count": 148,
     "metadata": {},
     "output_type": "execute_result"
    }
   ],
   "source": [
    "mask = full_image_arr[:,:,0]\n",
    "mask.max()"
   ]
  },
  {
   "cell_type": "code",
   "execution_count": 151,
   "metadata": {},
   "outputs": [
    {
     "name": "stdout",
     "output_type": "stream",
     "text": [
      "Pixel mean: 0.01662863387814219\n"
     ]
    }
   ],
   "source": [
    "print(\"Pixel mean:\",np.mean(mu))"
   ]
  },
  {
   "cell_type": "markdown",
   "metadata": {},
   "source": [
    "## Mass Test"
   ]
  },
  {
   "cell_type": "code",
   "execution_count": null,
   "metadata": {
    "collapsed": true
   },
   "outputs": [],
   "source": [
    "# load the labels\n",
    "test_labels = pd.read_pickle(os.path.join(\"data\", \"test_labels.pkl\"))\n",
    "test_labels['IMAGE_NAME2'] = test_labels.index\n",
    "test_labels = test_labels.drop_duplicates(['IMAGE_NAME2'])\n",
    "\n",
    "## use a copy on the local drive to make testing faster\n",
    "mask_dir = \"C:\\\\Users\\\\eric\\\\Documents\\\\Courses\\\\Applied ML 2\\\\mammography\\\\data\\\\cbis-ddsm\\\\Mass Test All Mask JPEGs\"\n",
    "image_dir = \"C:\\\\Users\\\\eric\\\\Documents\\\\Courses\\\\Applied ML 2\\\\mammography\\\\data\\\\cbis-ddsm\\\\Mass Test All Full JPEGs\"\n",
    "\n",
    "mu = create_cbis_slices(mask_dir, image_dir, name=\"mask_test\", debug=None)"
   ]
  },
  {
   "cell_type": "code",
   "execution_count": null,
   "metadata": {
    "collapsed": true
   },
   "outputs": [],
   "source": [
    "print(\"Pixel mean:\",np.mean(mu))"
   ]
  },
  {
   "cell_type": "markdown",
   "metadata": {},
   "source": [
    "## Calc Train"
   ]
  },
  {
   "cell_type": "code",
   "execution_count": null,
   "metadata": {
    "collapsed": true
   },
   "outputs": [],
   "source": [
    "train_labels = pd.read_pickle(os.path.join(\"data\", \"train_labels.pkl\"))\n",
    "train_labels['IMAGE_NAME2'] = train_labels.index\n",
    "train_labels = train_labels.drop_duplicates(['IMAGE_NAME2'])\n",
    "\n",
    "## use a copy on the local drive to make testing faster\n",
    "mask_dir = \"C:\\\\Users\\\\eric\\\\Documents\\\\Courses\\\\Applied ML 2\\\\mammography\\\\data\\\\cbis-ddsm\\\\Calc Train All Mask JPEGs Full\"\n",
    "image_dir = \"C:\\\\Users\\\\eric\\\\Documents\\\\Courses\\\\Applied ML 2\\\\mammography\\\\data\\\\cbis-ddsm\\\\Calc Train All Full JPEGs\"\n",
    "\n",
    "mu = create_cbis_slices(mask_dir, image_dir, name=\"calc_train\", debug=None)"
   ]
  },
  {
   "cell_type": "code",
   "execution_count": null,
   "metadata": {
    "collapsed": true
   },
   "outputs": [],
   "source": [
    "print(\"Pixel mean:\",np.mean(mu))"
   ]
  },
  {
   "cell_type": "markdown",
   "metadata": {},
   "source": [
    "## Mass Train"
   ]
  },
  {
   "cell_type": "code",
   "execution_count": 22,
   "metadata": {
    "collapsed": true
   },
   "outputs": [],
   "source": [
    "train_labels = pd.read_pickle(os.path.join(\"data\", \"train_labels.pkl\"))\n",
    "train_labels['IMAGE_NAME2'] = train_labels.index\n",
    "train_labels = train_labels.drop_duplicates(['IMAGE_NAME2'])\n",
    "\n",
    "## use a copy on the local drive to make testing faster\n",
    "mask_dir = \"C:\\\\Users\\\\eric\\\\Documents\\\\Courses\\\\Applied ML 2\\\\mammography\\\\data\\\\cbis-ddsm\\\\Mass Train All Mask JPEGs Full\"\n",
    "image_dir = \"C:\\\\Users\\\\eric\\\\Documents\\\\Courses\\\\Applied ML 2\\\\mammography\\\\data\\\\cbis-ddsm\\\\Mass Train All JPEGs Full\"\n",
    "\n",
    "\n",
    "mu = create_cbis_slices(mask_dir, image_dir, name=\"mass_train\", debug=None)"
   ]
  },
  {
   "cell_type": "code",
   "execution_count": 23,
   "metadata": {},
   "outputs": [
    {
     "name": "stdout",
     "output_type": "stream",
     "text": [
      "Mass Train Slices shape: (6716, 640, 640, 1)\n",
      "Mass Train Labels: (6716, 640, 640, 1)\n",
      "Mass Train File Name List: 6716\n"
     ]
    }
   ],
   "source": [
    "print(\"Pixel mean:\",np.mean(mu))"
   ]
  }
 ],
 "metadata": {
  "kernelspec": {
   "display_name": "Python 3",
   "language": "python",
   "name": "python3"
  },
  "language_info": {
   "codemirror_mode": {
    "name": "ipython",
    "version": 3
   },
   "file_extension": ".py",
   "mimetype": "text/x-python",
   "name": "python",
   "nbconvert_exporter": "python",
   "pygments_lexer": "ipython3",
   "version": "3.6.2"
  }
 },
 "nbformat": 4,
 "nbformat_minor": 2
}
