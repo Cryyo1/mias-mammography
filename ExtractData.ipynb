{
 "cells": [
  {
   "cell_type": "code",
   "execution_count": 5,
   "metadata": {
    "collapsed": true
   },
   "outputs": [],
   "source": [
    "import tarfile\n",
    "\n",
    "def extract_tar(fname, dest=\"./data/pgms\"):\n",
    "    mode = \"r:gz\" if (fname.endswith(\"tar.gz\")) else \"r:\"\n",
    "    tar = tarfile.open(fname, mode)\n",
    "    tar.extractall(path=dest)\n",
    "    tar.close()\n",
    "    \n",
    "extract_tar(\"./data/all-mias.tar.gz\")"
   ]
  }
 ],
 "metadata": {
  "kernelspec": {
   "display_name": "Python 3",
   "language": "python",
   "name": "python3"
  },
  "language_info": {
   "codemirror_mode": {
    "name": "ipython",
    "version": 3
   },
   "file_extension": ".py",
   "mimetype": "text/x-python",
   "name": "python",
   "nbconvert_exporter": "python",
   "pygments_lexer": "ipython3",
   "version": "3.6.2"
  }
 },
 "nbformat": 4,
 "nbformat_minor": 2
}
