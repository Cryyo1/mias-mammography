{
 "cells": [
  {
   "cell_type": "code",
   "execution_count": 1,
   "metadata": {
    "collapsed": true
   },
   "outputs": [],
   "source": [
    "import matplotlib.pyplot as plt\n",
    "import numpy as np\n",
    "import pandas as pd\n",
    "import os\n",
    "from sklearn.model_selection import train_test_split\n",
    "from sklearn.decomposition import PCA\n",
    "from sklearn.neighbors import KNeighborsClassifier\n",
    "from sklearn.pipeline import Pipeline\n",
    "from sklearn.model_selection import GridSearchCV\n",
    "% matplotlib inline"
   ]
  },
  {
   "cell_type": "markdown",
   "metadata": {},
   "source": [
    "## Wisconsin Breast Cancer Database"
   ]
  },
  {
   "cell_type": "code",
   "execution_count": 2,
   "metadata": {},
   "outputs": [
    {
     "name": "stdout",
     "output_type": "stream",
     "text": [
      "X_tr: (546, 9)\n",
      "X_te: (137, 9)\n",
      "y_tr: (546,)\n",
      "y_te: (137,)\n"
     ]
    }
   ],
   "source": [
    "# import the data\n",
    "bcw_data = pd.read_csv(os.path.join(\"data\", \"uci\", \"breast-cancer-wisconsin.data\"), na_values=\"?\", header=None)\n",
    "\n",
    "# set the column names\n",
    "bcw_data.columns = [\"ID\",\"THICKNESS\",\"CELL_SIZE_UNIFORMITY\",\"CELL_SHAPE_UNIFORMITY\",\"MARGINAL_ADHESION\",\"EPI_CELL_SIZE\",\"BARE_NUCLEI\",\"BLAND_CHROMATIN\",\"NORMAL_NUCLEOLI\",\"MITOSES\",\"CLASS\"]\n",
    "\n",
    "# remove NAs\n",
    "bcw_data = bcw_data.dropna(axis=0, how=\"any\")\n",
    "bcw_data = bcw_data.drop(\"ID\", axis=1)\n",
    "\n",
    "y1 = bcw_data.pop(\"CLASS\")\n",
    "X1 = bcw_data\n",
    "\n",
    "# split the data\n",
    "X_tr, X_te, y_tr, y_te = train_test_split(X1, y1, test_size=0.2, random_state=0)\n",
    "print(\"X_tr:\", X_tr.shape)\n",
    "print(\"X_te:\", X_te.shape)\n",
    "print(\"y_tr:\", y_tr.shape)\n",
    "print(\"y_te:\", y_te.shape)"
   ]
  },
  {
   "cell_type": "code",
   "execution_count": 23,
   "metadata": {},
   "outputs": [
    {
     "data": {
      "text/html": [
       "<div>\n",
       "<style>\n",
       "    .dataframe thead tr:only-child th {\n",
       "        text-align: right;\n",
       "    }\n",
       "\n",
       "    .dataframe thead th {\n",
       "        text-align: left;\n",
       "    }\n",
       "\n",
       "    .dataframe tbody tr th {\n",
       "        vertical-align: top;\n",
       "    }\n",
       "</style>\n",
       "<table border=\"1\" class=\"dataframe\">\n",
       "  <thead>\n",
       "    <tr style=\"text-align: right;\">\n",
       "      <th></th>\n",
       "      <th>neighbors</th>\n",
       "      <th>distance_metric</th>\n",
       "      <th>mean_te</th>\n",
       "    </tr>\n",
       "  </thead>\n",
       "  <tbody>\n",
       "    <tr>\n",
       "      <th>2</th>\n",
       "      <td>3</td>\n",
       "      <td>1</td>\n",
       "      <td>0.938462</td>\n",
       "    </tr>\n",
       "    <tr>\n",
       "      <th>6</th>\n",
       "      <td>10</td>\n",
       "      <td>1</td>\n",
       "      <td>0.938462</td>\n",
       "    </tr>\n",
       "    <tr>\n",
       "      <th>4</th>\n",
       "      <td>5</td>\n",
       "      <td>1</td>\n",
       "      <td>0.936264</td>\n",
       "    </tr>\n",
       "    <tr>\n",
       "      <th>3</th>\n",
       "      <td>3</td>\n",
       "      <td>2</td>\n",
       "      <td>0.931868</td>\n",
       "    </tr>\n",
       "    <tr>\n",
       "      <th>7</th>\n",
       "      <td>10</td>\n",
       "      <td>2</td>\n",
       "      <td>0.931868</td>\n",
       "    </tr>\n",
       "    <tr>\n",
       "      <th>8</th>\n",
       "      <td>15</td>\n",
       "      <td>1</td>\n",
       "      <td>0.929670</td>\n",
       "    </tr>\n",
       "    <tr>\n",
       "      <th>0</th>\n",
       "      <td>1</td>\n",
       "      <td>1</td>\n",
       "      <td>0.927473</td>\n",
       "    </tr>\n",
       "    <tr>\n",
       "      <th>9</th>\n",
       "      <td>15</td>\n",
       "      <td>2</td>\n",
       "      <td>0.923077</td>\n",
       "    </tr>\n",
       "    <tr>\n",
       "      <th>12</th>\n",
       "      <td>25</td>\n",
       "      <td>1</td>\n",
       "      <td>0.923077</td>\n",
       "    </tr>\n",
       "    <tr>\n",
       "      <th>1</th>\n",
       "      <td>1</td>\n",
       "      <td>2</td>\n",
       "      <td>0.920879</td>\n",
       "    </tr>\n",
       "  </tbody>\n",
       "</table>\n",
       "</div>"
      ],
      "text/plain": [
       "   neighbors distance_metric   mean_te\n",
       "2          3               1  0.938462\n",
       "6         10               1  0.938462\n",
       "4          5               1  0.936264\n",
       "3          3               2  0.931868\n",
       "7         10               2  0.931868\n",
       "8         15               1  0.929670\n",
       "0          1               1  0.927473\n",
       "9         15               2  0.923077\n",
       "12        25               1  0.923077\n",
       "1          1               2  0.920879"
      ]
     },
     "execution_count": 23,
     "metadata": {},
     "output_type": "execute_result"
    }
   ],
   "source": [
    "pipe1 = Pipeline([\n",
    "    ('knn', KNeighborsClassifier())\n",
    "])\n",
    "\n",
    "grid1 = {\n",
    "    'knn__n_neighbors': [1, 3, 5, 10, 15, 20, 25, 30],\n",
    "    'knn__p': [1, 2],\n",
    "}\n",
    "\n",
    "grid_cv1 = GridSearchCV(pipe1, grid1, cv=5)\n",
    "\n",
    "grid_cv1.fit(X_tr, y_tr)\n",
    "\n",
    "test_score = grid_cv1.score(X_te, y_te)\n",
    "\n",
    "# Collect results and sort them\n",
    "df1 = pd.DataFrame.from_items([\n",
    "    ('neighbors', grid_cv1.cv_results_['param_knn__n_neighbors']),\n",
    "    ('distance_metric', grid_cv1.cv_results_['param_knn__p']),\n",
    "    ('mean_te', grid_cv1.cv_results_['mean_test_score'])\n",
    "])\n",
    "\n",
    "df1.sort_values(by='mean_te', ascending=False).head(10)"
   ]
  },
  {
   "cell_type": "code",
   "execution_count": 24,
   "metadata": {},
   "outputs": [
    {
     "name": "stdout",
     "output_type": "stream",
     "text": [
      "Test accuracy: 0.9473684210526315\n"
     ]
    }
   ],
   "source": [
    "print(\"Test accuracy:\", test_score)"
   ]
  },
  {
   "cell_type": "markdown",
   "metadata": {},
   "source": [
    "## Wisconsin Diagnostic Breast Cancer (WDBC)"
   ]
  },
  {
   "cell_type": "code",
   "execution_count": 25,
   "metadata": {},
   "outputs": [
    {
     "name": "stdout",
     "output_type": "stream",
     "text": [
      "X_tr: (455, 30)\n",
      "X_te: (114, 30)\n",
      "y_tr: (455,)\n",
      "y_te: (114,)\n"
     ]
    }
   ],
   "source": [
    "# import the data\n",
    "wdbc_data = pd.read_csv(os.path.join(\"data\", \"uci\", \"wdbc.data\"), na_values=\"?\", header=None)\n",
    "\n",
    "# set the column names\n",
    "wdbc_data=wdbc_data.rename(columns = {0:'ID', 1:\"CLASS\", 2: \"MEAN_RADIUS\", 3: \"MEAN_TEXTURE\", 4: \"MEAN_PERIMETER\", 5: \"MEAN_AREA\", 6: \"MEAN_SMOOTHNESS\", 7: \"MEAN_COMPACTNESS\", 8: \"MEAN_CONCAVITY\", 9:\"MEAN_CONCAVE_POINTS\", 10: \"MEAN_SYMMETRY\", 11: \"MEAN_FRACTAL_DIMENSIONS\", 12: \"RADIUS_SE\", 13: \"TEXTURE_SE\", 14: \"PERIMETER_SE\", 15: \"AREA_SE\", 16: \"SMOOTHNESS_SE\", 17: \"COMPACTNESS_SE\", 18: \"CONCAVITY_SE\", 19: \"CONCAVE_POINTS_SE\", 20: \"SYMMETRY_SE\",21: \"FRACTAL_DIMENSIONS_SE\", 22: \"WORST_RADIUS\", 23: \"WORST_TEXTURE\", 24: \"WORST_PERIMETER\", 25: \"WORST_AREA\", 26: \"WORST_SMOOTHNESS\", 27: \"WORST_COMPACTNESS\", 28: \"WORST_CONCAVITY\", 29: \"WORST_CONCAVE_POINTS\", 30: \"WORST_SYMMETRY\", 31: \"WORST_FRACTAL_DIMENSIONS\"})\n",
    "wdbc_data = wdbc_data.dropna(axis=0, how=\"any\")\n",
    "\n",
    "y2 = wdbc_data.pop(\"CLASS\")\n",
    "X2 = wdbc_data.drop([\"ID\"], axis=1)\n",
    "\n",
    "# split the data\n",
    "X_tr, X_te, y_tr, y_te = train_test_split(X2, y2, test_size=0.2, random_state=0)\n",
    "print(\"X_tr:\", X_tr.shape)\n",
    "print(\"X_te:\", X_te.shape)\n",
    "print(\"y_tr:\", y_tr.shape)\n",
    "print(\"y_te:\", y_te.shape)"
   ]
  },
  {
   "cell_type": "code",
   "execution_count": 26,
   "metadata": {},
   "outputs": [
    {
     "data": {
      "text/html": [
       "<div>\n",
       "<style>\n",
       "    .dataframe thead tr:only-child th {\n",
       "        text-align: right;\n",
       "    }\n",
       "\n",
       "    .dataframe thead th {\n",
       "        text-align: left;\n",
       "    }\n",
       "\n",
       "    .dataframe tbody tr th {\n",
       "        vertical-align: top;\n",
       "    }\n",
       "</style>\n",
       "<table border=\"1\" class=\"dataframe\">\n",
       "  <thead>\n",
       "    <tr style=\"text-align: right;\">\n",
       "      <th></th>\n",
       "      <th>neighbors</th>\n",
       "      <th>distance_metric</th>\n",
       "      <th>mean_te</th>\n",
       "    </tr>\n",
       "  </thead>\n",
       "  <tbody>\n",
       "    <tr>\n",
       "      <th>0</th>\n",
       "      <td>3</td>\n",
       "      <td>1</td>\n",
       "      <td>0.938462</td>\n",
       "    </tr>\n",
       "    <tr>\n",
       "      <th>4</th>\n",
       "      <td>10</td>\n",
       "      <td>1</td>\n",
       "      <td>0.938462</td>\n",
       "    </tr>\n",
       "    <tr>\n",
       "      <th>2</th>\n",
       "      <td>5</td>\n",
       "      <td>1</td>\n",
       "      <td>0.936264</td>\n",
       "    </tr>\n",
       "    <tr>\n",
       "      <th>1</th>\n",
       "      <td>3</td>\n",
       "      <td>2</td>\n",
       "      <td>0.931868</td>\n",
       "    </tr>\n",
       "    <tr>\n",
       "      <th>5</th>\n",
       "      <td>10</td>\n",
       "      <td>2</td>\n",
       "      <td>0.931868</td>\n",
       "    </tr>\n",
       "    <tr>\n",
       "      <th>6</th>\n",
       "      <td>15</td>\n",
       "      <td>1</td>\n",
       "      <td>0.929670</td>\n",
       "    </tr>\n",
       "    <tr>\n",
       "      <th>7</th>\n",
       "      <td>15</td>\n",
       "      <td>2</td>\n",
       "      <td>0.923077</td>\n",
       "    </tr>\n",
       "    <tr>\n",
       "      <th>10</th>\n",
       "      <td>25</td>\n",
       "      <td>1</td>\n",
       "      <td>0.923077</td>\n",
       "    </tr>\n",
       "    <tr>\n",
       "      <th>3</th>\n",
       "      <td>5</td>\n",
       "      <td>2</td>\n",
       "      <td>0.920879</td>\n",
       "    </tr>\n",
       "    <tr>\n",
       "      <th>8</th>\n",
       "      <td>20</td>\n",
       "      <td>1</td>\n",
       "      <td>0.918681</td>\n",
       "    </tr>\n",
       "  </tbody>\n",
       "</table>\n",
       "</div>"
      ],
      "text/plain": [
       "   neighbors distance_metric   mean_te\n",
       "0          3               1  0.938462\n",
       "4         10               1  0.938462\n",
       "2          5               1  0.936264\n",
       "1          3               2  0.931868\n",
       "5         10               2  0.931868\n",
       "6         15               1  0.929670\n",
       "7         15               2  0.923077\n",
       "10        25               1  0.923077\n",
       "3          5               2  0.920879\n",
       "8         20               1  0.918681"
      ]
     },
     "execution_count": 26,
     "metadata": {},
     "output_type": "execute_result"
    }
   ],
   "source": [
    "pipe2 = Pipeline([\n",
    "    ('knn', KNeighborsClassifier())\n",
    "])\n",
    "\n",
    "grid2 = {\n",
    "    'knn__n_neighbors': [3, 5, 10, 15, 20, 25, 30],\n",
    "    'knn__p': [1, 2],\n",
    "}\n",
    "\n",
    "grid_cv2 = GridSearchCV(pipe2, grid2, cv=5)\n",
    "\n",
    "grid_cv2.fit(X_tr, y_tr)\n",
    "\n",
    "test_score = grid_cv2.score(X_te, y_te)\n",
    "\n",
    "# Collect results and sort them\n",
    "df2 = pd.DataFrame.from_items([\n",
    "    ('neighbors', grid_cv2.cv_results_['param_knn__n_neighbors']),\n",
    "    ('distance_metric', grid_cv2.cv_results_['param_knn__p']),\n",
    "    ('mean_te', grid_cv2.cv_results_['mean_test_score'])\n",
    "])\n",
    "\n",
    "df2.sort_values(by='mean_te', ascending=False).head(10)"
   ]
  },
  {
   "cell_type": "code",
   "execution_count": 27,
   "metadata": {},
   "outputs": [
    {
     "name": "stdout",
     "output_type": "stream",
     "text": [
      "Test accuracy: 0.9473684210526315\n"
     ]
    }
   ],
   "source": [
    "print(\"Test accuracy:\", test_score)"
   ]
  },
  {
   "cell_type": "markdown",
   "metadata": {},
   "source": [
    "## Wisconsin Prognostic Breast Cancer (WPBC)"
   ]
  },
  {
   "cell_type": "code",
   "execution_count": 28,
   "metadata": {},
   "outputs": [
    {
     "name": "stdout",
     "output_type": "stream",
     "text": [
      "X_tr: (155, 32)\n",
      "X_te: (39, 32)\n",
      "y_tr: (155,)\n",
      "y_te: (39,)\n",
      "y_class_tr: (155,)\n",
      "y_class_te: (39,)\n"
     ]
    },
    {
     "name": "stderr",
     "output_type": "stream",
     "text": [
      "C:\\Users\\eric\\Anaconda2\\envs\\exts-aml2\\lib\\site-packages\\ipykernel_launcher.py:10: SettingWithCopyWarning: \n",
      "A value is trying to be set on a copy of a slice from a DataFrame\n",
      "\n",
      "See the caveats in the documentation: http://pandas.pydata.org/pandas-docs/stable/indexing.html#indexing-view-versus-copy\n",
      "  # Remove the CWD from sys.path while we load stuff.\n"
     ]
    }
   ],
   "source": [
    "# import the data\n",
    "wpbc_data = pd.read_csv(os.path.join(\"data\", \"uci\", \"wpbc.data\"), na_values=\"?\", header=None)\n",
    "\n",
    "# set the column names\n",
    "wpbc_data=wpbc_data.rename(columns = {0:'ID', 1:\"CLASS\", 2: \"TIME\", 3: \"MEAN_RADIUS\", 4: \"MEAN_TEXTURE\", 5: \"MEAN_PERIMITER\", 6: \"MEAN_AREA\", 7: \"MEAN_SMOOTHNESS\", 8: \"MEAN_COMPACTNESS\", 9: \"MEAN_CONCAVITY\", 10:\"MEAN_CONCAVE_POINTS\", 11: \"MEAN_SYMMETRY\", 12: \"MEAN_FRACTAL_DIMENSIONS\", 13: \"RADIUS_SE\", 14: \"TEXTURE_SE\", 15: \"PERIMETER_SE\", 16: \"AREA_SE\", 17: \"SMOOTHNESS_SE\", 18: \"COMPACTNESS_SE\", 19: \"CONCAVITY_SE\", 20: \"CONCAVE_POINTS_SE\", 21: \"SYMMETRY_SE\",22: \"FRACTAL_DIMENSIONS_SE\", 23: \"WORST_RADIUS\", 24: \"WORST_TEXTURE\", 25: \"WORST_PERIMETER\", 26: \"WORST_AREA\", 27: \"WORST_SMOOTHNESS\", 28: \"WORST_COMPACTNESS\", 29: \"WORST_CONCAVITY\", 30: \"WORST_CONCAVE_POINTS\", 31: \"WORST_SYMMETRY\", 32: \"WORST_FRACTAL_DIMENSIONS\", 33: \"TUMOR_SIZE\", 34: \"LYMPH_STATUS\"})\n",
    "\n",
    "wpbc_data = wpbc_data.dropna(axis=0, how=\"any\")\n",
    "\n",
    "wpbc_data['OUTCOME'] = 0\n",
    "wpbc_data['OUTCOME'][(wpbc_data.CLASS == \"R\") & (wpbc_data.TIME <= 24)] = 1\n",
    "\n",
    "y_class = wpbc_data.pop(\"CLASS\")\n",
    "y3 = wpbc_data.pop(\"OUTCOME\")\n",
    "X3 = wpbc_data.drop([\"ID\",\"TIME\"], axis=1)\n",
    "\n",
    "# split the data\n",
    "X_tr, X_te, y_tr, y_te, y_class_tr, y_class_te = train_test_split(X3, y3, y_class, test_size=0.2, random_state=0)\n",
    "print(\"X_tr:\", X_tr.shape)\n",
    "print(\"X_te:\", X_te.shape)\n",
    "print(\"y_tr:\", y_tr.shape)\n",
    "print(\"y_te:\", y_te.shape)\n",
    "print(\"y_class_tr:\", y_class_tr.shape)\n",
    "print(\"y_class_te:\", y_class_te.shape)"
   ]
  },
  {
   "cell_type": "code",
   "execution_count": 30,
   "metadata": {},
   "outputs": [
    {
     "data": {
      "text/html": [
       "<div>\n",
       "<style>\n",
       "    .dataframe thead tr:only-child th {\n",
       "        text-align: right;\n",
       "    }\n",
       "\n",
       "    .dataframe thead th {\n",
       "        text-align: left;\n",
       "    }\n",
       "\n",
       "    .dataframe tbody tr th {\n",
       "        vertical-align: top;\n",
       "    }\n",
       "</style>\n",
       "<table border=\"1\" class=\"dataframe\">\n",
       "  <thead>\n",
       "    <tr style=\"text-align: right;\">\n",
       "      <th></th>\n",
       "      <th>neighbors</th>\n",
       "      <th>distance_metric</th>\n",
       "      <th>mean_te</th>\n",
       "    </tr>\n",
       "  </thead>\n",
       "  <tbody>\n",
       "    <tr>\n",
       "      <th>3</th>\n",
       "      <td>5</td>\n",
       "      <td>2</td>\n",
       "      <td>0.83871</td>\n",
       "    </tr>\n",
       "    <tr>\n",
       "      <th>5</th>\n",
       "      <td>10</td>\n",
       "      <td>2</td>\n",
       "      <td>0.83871</td>\n",
       "    </tr>\n",
       "    <tr>\n",
       "      <th>6</th>\n",
       "      <td>15</td>\n",
       "      <td>1</td>\n",
       "      <td>0.83871</td>\n",
       "    </tr>\n",
       "    <tr>\n",
       "      <th>7</th>\n",
       "      <td>15</td>\n",
       "      <td>2</td>\n",
       "      <td>0.83871</td>\n",
       "    </tr>\n",
       "    <tr>\n",
       "      <th>8</th>\n",
       "      <td>20</td>\n",
       "      <td>1</td>\n",
       "      <td>0.83871</td>\n",
       "    </tr>\n",
       "    <tr>\n",
       "      <th>9</th>\n",
       "      <td>20</td>\n",
       "      <td>2</td>\n",
       "      <td>0.83871</td>\n",
       "    </tr>\n",
       "    <tr>\n",
       "      <th>10</th>\n",
       "      <td>25</td>\n",
       "      <td>1</td>\n",
       "      <td>0.83871</td>\n",
       "    </tr>\n",
       "    <tr>\n",
       "      <th>11</th>\n",
       "      <td>25</td>\n",
       "      <td>2</td>\n",
       "      <td>0.83871</td>\n",
       "    </tr>\n",
       "    <tr>\n",
       "      <th>12</th>\n",
       "      <td>30</td>\n",
       "      <td>1</td>\n",
       "      <td>0.83871</td>\n",
       "    </tr>\n",
       "    <tr>\n",
       "      <th>13</th>\n",
       "      <td>30</td>\n",
       "      <td>2</td>\n",
       "      <td>0.83871</td>\n",
       "    </tr>\n",
       "  </tbody>\n",
       "</table>\n",
       "</div>"
      ],
      "text/plain": [
       "   neighbors distance_metric  mean_te\n",
       "3          5               2  0.83871\n",
       "5         10               2  0.83871\n",
       "6         15               1  0.83871\n",
       "7         15               2  0.83871\n",
       "8         20               1  0.83871\n",
       "9         20               2  0.83871\n",
       "10        25               1  0.83871\n",
       "11        25               2  0.83871\n",
       "12        30               1  0.83871\n",
       "13        30               2  0.83871"
      ]
     },
     "execution_count": 30,
     "metadata": {},
     "output_type": "execute_result"
    }
   ],
   "source": [
    "pipe3 = Pipeline([\n",
    "    ('knn', KNeighborsClassifier())\n",
    "])\n",
    "\n",
    "grid3 = {\n",
    "    'knn__n_neighbors': [3, 5, 10, 15, 20, 25, 30],\n",
    "    'knn__p': [1, 2],\n",
    "}\n",
    "\n",
    "grid_cv3 = GridSearchCV(pipe3, grid3, cv=5)\n",
    "\n",
    "grid_cv3.fit(X_tr, y_tr)\n",
    "\n",
    "test_score = grid_cv3.score(X_te, y_te)\n",
    "\n",
    "# Collect results and sort them\n",
    "df3 = pd.DataFrame.from_items([\n",
    "    ('neighbors', grid_cv3.cv_results_['param_knn__n_neighbors']),\n",
    "    ('distance_metric', grid_cv3.cv_results_['param_knn__p']),\n",
    "    ('mean_te', grid_cv3.cv_results_['mean_test_score'])\n",
    "])\n",
    "\n",
    "df3.sort_values(by='mean_te', ascending=False).head(10)"
   ]
  },
  {
   "cell_type": "code",
   "execution_count": 31,
   "metadata": {},
   "outputs": [
    {
     "name": "stdout",
     "output_type": "stream",
     "text": [
      "Test accuracy: 0.9230769230769231\n"
     ]
    }
   ],
   "source": [
    "print(\"Test accuracy:\", test_score)"
   ]
  },
  {
   "cell_type": "code",
   "execution_count": null,
   "metadata": {
    "collapsed": true
   },
   "outputs": [],
   "source": []
  }
 ],
 "metadata": {
  "kernelspec": {
   "display_name": "Python 3",
   "language": "python",
   "name": "python3"
  },
  "language_info": {
   "codemirror_mode": {
    "name": "ipython",
    "version": 3
   },
   "file_extension": ".py",
   "mimetype": "text/x-python",
   "name": "python",
   "nbconvert_exporter": "python",
   "pygments_lexer": "ipython3",
   "version": "3.6.2"
  }
 },
 "nbformat": 4,
 "nbformat_minor": 2
}
